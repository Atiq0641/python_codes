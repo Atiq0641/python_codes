{
  "nbformat": 4,
  "nbformat_minor": 0,
  "metadata": {
    "colab": {
      "name": "Untitled4.ipynb",
      "provenance": [],
      "collapsed_sections": [],
      "authorship_tag": "ABX9TyMQFIfxvWcnh7NESuWCKEbK",
      "include_colab_link": true
    },
    "kernelspec": {
      "name": "python3",
      "display_name": "Python 3"
    },
    "language_info": {
      "name": "python"
    }
  },
  "cells": [
    {
      "cell_type": "markdown",
      "metadata": {
        "id": "view-in-github",
        "colab_type": "text"
      },
      "source": [
        "<a href=\"https://colab.research.google.com/github/Atiq0641/python_codes/blob/main/CSE111-1.ipynb\" target=\"_parent\"><img src=\"https://colab.research.google.com/assets/colab-badge.svg\" alt=\"Open In Colab\"/></a>"
      ]
    },
    {
      "cell_type": "markdown",
      "source": [
        "String 1"
      ],
      "metadata": {
        "id": "cxt2exnADp5x"
      }
    },
    {
      "cell_type": "code",
      "source": [
        "user_input=str(input())\n",
        "upper_counter=0\n",
        "lower_counter=0\n",
        "empty_string=\"\"\n",
        "for i in user_input:\n",
        "  if \"a\"<=i<=\"z\":\n",
        "    lower_counter+=1\n",
        "  elif \"A\"<=i<=\"Z\":\n",
        "    upper_counter+=1\n",
        "if upper_counter>lower_counter:\n",
        "  for j in user_input:\n",
        "    #if \"A\"<=j<=\"Z\":\n",
        "      #empty_string+=j\n",
        "    #elif j==\" \":\n",
        "      #empty_string+=j  \n",
        "    #else:\n",
        "      #empty_string+=chr(ord(j)-32)\n",
        "    if \"a\"<=j<=\"z\":\n",
        "      empty_string+=chr(ord(j)-32)\n",
        "    else:\n",
        "      empty_string+=j    \n",
        "else:\n",
        "  for k in user_input:\n",
        "    #if \"a\"<=k<=\"z\":\n",
        "      #empty_string+=k\n",
        "    #elif k==\" \":\n",
        "      #empty_string+=k  \n",
        "    #else:\n",
        "      #empty_string+=chr(ord(k)+32)\n",
        "    if \"A\"<=k<=\"Z\":\n",
        "      empty_string+=chr(ord(k)+32)\n",
        "    else:\n",
        "      empty_string+=k   \n",
        "print(empty_string)"
      ],
      "metadata": {
        "colab": {
          "base_uri": "https://localhost:8080/"
        },
        "id": "o5X7TYVGDoZs",
        "outputId": "21df431f-ba77-4d0c-ce4b-9644c78b19f1"
      },
      "execution_count": null,
      "outputs": [
        {
          "output_type": "stream",
          "name": "stdout",
          "text": [
            "WhAt The H\n",
            "what the h\n"
          ]
        }
      ]
    },
    {
      "cell_type": "markdown",
      "source": [
        "String-2"
      ],
      "metadata": {
        "id": "XLSJ09bUfwaa"
      }
    },
    {
      "cell_type": "code",
      "execution_count": null,
      "metadata": {
        "colab": {
          "base_uri": "https://localhost:8080/"
        },
        "id": "13h-PSr1CLyH",
        "outputId": "5ba926fc-63a5-4e68-ccb5-af30f8b7a5f0"
      },
      "outputs": [
        {
          "output_type": "stream",
          "name": "stdout",
          "text": [
            "heLLO1235\n",
            "MIXED\n"
          ]
        }
      ],
      "source": [
        "user_input=input()\n",
        "digit_count=0\n",
        "word_count=0\n",
        "mixed_count=0\n",
        "for i in user_input:\n",
        "  if \"0\"<=i<=\"9\":\n",
        "    digit_count+=1\n",
        "  elif \"a\"<=i<=\"z\" or \"A\"<=i<=\"Z\":\n",
        "    word_count+=1\n",
        "  else:\n",
        "    mixed_count+=1\n",
        "if digit_count==len(user_input):\n",
        "  print(\"NUMBER\")\n",
        "elif word_count==len(user_input):\n",
        "  print(\"WORD\")\n",
        "else:\n",
        "  print(\"MIXED\")"
      ]
    },
    {
      "cell_type": "markdown",
      "source": [
        "String 3"
      ],
      "metadata": {
        "id": "V_RnNvePE8nU"
      }
    },
    {
      "cell_type": "code",
      "source": [
        "user_input=str(input())\n",
        "counter=0\n",
        "empty=''\n",
        "start=0\n",
        "end=0\n",
        "for i in range(len(user_input)):\n",
        "  ascii=ord(user_input[i])\n",
        "  if 65<=ascii<=90:\n",
        "    start=i\n",
        "    break    \n",
        "for j in range(len(user_input)):\n",
        "  ascii1=ord(user_input[j])\n",
        "  if 65<=ascii1<=90:\n",
        "    end=j\n",
        "empty=empty+user_input[start+1:end] \n",
        "if len(empty)==0:\n",
        "  print(\"Blank\")\n",
        "else:\n",
        "  print(empty)"
      ],
      "metadata": {
        "id": "ZMTlkK0YEzAw",
        "colab": {
          "base_uri": "https://localhost:8080/"
        },
        "outputId": "02dfe897-5996-4f4e-8264-13094d074c50"
      },
      "execution_count": null,
      "outputs": [
        {
          "output_type": "stream",
          "name": "stdout",
          "text": [
            "AsiA\n",
            "si\n"
          ]
        }
      ]
    },
    {
      "cell_type": "markdown",
      "source": [
        "String 4"
      ],
      "metadata": {
        "id": "0BlyRedwFAd5"
      }
    },
    {
      "cell_type": "code",
      "source": [
        "user_input='dean, tom'\n",
        "list1=user_input.split(\", \")\n",
        "user_input1=list1[0]\n",
        "user_input2=list1[1]\n",
        "empty=\"\"\n",
        "for i in user_input1:\n",
        "  if i in user_input2:\n",
        "    empty+=i\n",
        "for j in user_input2:\n",
        "  if j in user_input1:\n",
        "    empty+=j\n",
        "if len(empty)==0:\n",
        "  print(\"Nothing in common\")\n",
        "else:      \n",
        "  print(empty)    "
      ],
      "metadata": {
        "colab": {
          "base_uri": "https://localhost:8080/"
        },
        "id": "KFDG6nS3FAEa",
        "outputId": "8c2655bb-0f2b-410c-c328-922515b8b4f4"
      },
      "execution_count": null,
      "outputs": [
        {
          "output_type": "stream",
          "name": "stdout",
          "text": [
            "Nothing in common\n"
          ]
        }
      ]
    },
    {
      "cell_type": "markdown",
      "source": [
        "String-5"
      ],
      "metadata": {
        "id": "aqFUm0BPddv5"
      }
    },
    {
      "cell_type": "code",
      "source": [
        "user_password=input()\n",
        "upper_counter=0\n",
        "lower_counter=0\n",
        "special_counter=0\n",
        "digit_counter=0\n",
        "special_character=\"_$@#\"\n",
        "for i in user_password:\n",
        "  if i in special_character:\n",
        "    special_counter+=1\n",
        "  elif \"a\"<=i<=\"z\":\n",
        "    lower_counter+=1\n",
        "  elif \"A\"<=i<=\"Z\":\n",
        "    upper_counter+=1\n",
        "  elif \"0\"<=i<=\"9\":\n",
        "    digit_counter+=1\n",
        "if upper_counter==0 and lower_counter==0 and special_counter==0 and digit_counter==0:\n",
        "  print(\"Uppercase character missing, Lowercase character, Digit missing, Special character missing\")\n",
        "elif upper_counter==0 and lower_counter==0 and special_counter==0:\n",
        "  print(\"Uppercase character missing, Lowercase character,Special character missing\")\n",
        "elif upper_counter==0 and lower_counter==0 and digit_counter==0:\n",
        "  print(\"Uppercase character missing, Lowercase character, Digit missing\")\n",
        "elif upper_counter==0 and digit_counter==0 and special_counter==0:\n",
        "  print(\"Uppercase character missing,Digit missing, Special character missing\")\n",
        "elif lower_counter==0 and digit_counter==0 and special_counter==0:\n",
        "  print(\"Lowercase character, Digit missing, Special character missing\")\n",
        "elif upper_counter==0 and lower_counter==0: \n",
        "  print(\"Uppercase character missing, Lowercase character\")\n",
        "elif digit_counter==0 and special_counter==0:\n",
        "  print(\"Digit missing, Special character missing\")\n",
        "elif upper_counter==0 and digit_counter==0:\n",
        "  print(\"Uppercase character missing,Digit missing\")\n",
        "elif lower_counter==0 and digit_counter==0:\n",
        "  print(\"Lowercase character missing, Digit missing\")\n",
        "elif upper_counter==0 and special_counter==0:\n",
        "  print(\"Uppercase character missing, Special character missing\")\n",
        "elif lower_counter==0 and special_counter==0:\n",
        "  print(\"Lowercase character missing, Special character missing\")\n",
        "elif upper_counter==0:\n",
        "  print(\"Uppercase character missing\")\n",
        "elif lower_counter==0:\n",
        "  print(\"Lowercase character missing\")\n",
        "elif special_counter==0:\n",
        "  print(\"Special character missing\")\n",
        "elif digit_counter==0:\n",
        "  print(\"Digit missing\")\n",
        "else:\n",
        "  print(\"OK\")  "
      ],
      "metadata": {
        "colab": {
          "base_uri": "https://localhost:8080/"
        },
        "id": "MaOaZFx8ED7M",
        "outputId": "efa1ea7a-fe79-493f-fbed-6e877e84cf80"
      },
      "execution_count": null,
      "outputs": [
        {
          "output_type": "stream",
          "name": "stdout",
          "text": [
            "atiq@Ma\n",
            "Digit missing\n"
          ]
        }
      ]
    },
    {
      "cell_type": "markdown",
      "source": [
        "List-1"
      ],
      "metadata": {
        "id": "zAxeXsR0fpzB"
      }
    },
    {
      "cell_type": "code",
      "source": [
        "empty_list1=[]\n",
        "empty_list2=[]\n",
        "i=0\n",
        "while i<10:\n",
        "  user_input=input()\n",
        "  if user_input==\"STOP\":\n",
        "    break\n",
        "  else:\n",
        "    empty_list1.append(user_input)\n",
        "for i in empty_list1:\n",
        "  if i not in empty_list2:\n",
        "    empty_list2.append(i)\n",
        "for j in empty_list2:\n",
        "  print(j,\"-\",empty_list1.count(j),\"times\")"
      ],
      "metadata": {
        "id": "XTPlyfxfddCL",
        "colab": {
          "base_uri": "https://localhost:8080/"
        },
        "outputId": "6999b230-ffba-45d0-987b-59947e8ff299"
      },
      "execution_count": null,
      "outputs": [
        {
          "output_type": "stream",
          "name": "stdout",
          "text": [
            "10\n",
            "20\n",
            "20\n",
            "10\n",
            "30\n",
            "50\n",
            "90\n",
            "STOP\n",
            "10 - 2 times\n",
            "20 - 2 times\n",
            "30 - 1 times\n",
            "50 - 1 times\n",
            "90 - 1 times\n"
          ]
        }
      ]
    },
    {
      "cell_type": "markdown",
      "source": [
        "List 2"
      ],
      "metadata": {
        "id": "_-pqRANNibTS"
      }
    },
    {
      "cell_type": "code",
      "source": [
        "n=int(input())\n",
        "highest_sum=0\n",
        "highest_list=[]\n",
        "for i in range(n):\n",
        "  sum=0\n",
        "  list1=[]\n",
        "  list_input=input()\n",
        "  list_input1=list_input.split(\" \")\n",
        "  for j in list_input1:\n",
        "    list1.append(int(j))\n",
        "  for k in list1:\n",
        "    sum=sum+k\n",
        "    if sum>highest_sum:\n",
        "      highest_sum=sum\n",
        "      highest_list=list1\n",
        "print(highest_sum)\n",
        "print(highest_list)      "
      ],
      "metadata": {
        "colab": {
          "base_uri": "https://localhost:8080/"
        },
        "id": "b2k03bswfkqO",
        "outputId": "1595b45f-137e-41ef-993e-2a339c476688"
      },
      "execution_count": null,
      "outputs": [
        {
          "output_type": "stream",
          "name": "stdout",
          "text": [
            "4\n",
            "1 2 3\n",
            "4 5 6\n",
            "10 11 12\n",
            "7 8 9\n",
            "33\n",
            "[10, 11, 12]\n"
          ]
        }
      ]
    },
    {
      "cell_type": "markdown",
      "source": [
        "list 3"
      ],
      "metadata": {
        "id": "AC_Z1Hawiu4g"
      }
    },
    {
      "cell_type": "code",
      "source": [
        "x=0\n",
        "while x<10:\n",
        "  user_input=input()\n",
        "  if user_input==\"STOP\":\n",
        "    break\n",
        "  else:\n",
        "    list1=user_input.split(\" \")\n",
        "    integer_list=[]\n",
        "    difference_list=[]\n",
        "    unique_difference_list=[]\n",
        "    difference=0\n",
        "    for i in list1:\n",
        "      integer_list.append(int(i))\n",
        "    print(integer_list)\n",
        "    for k in range(len(integer_list)):\n",
        "      if k==len(integer_list)-1:\n",
        "        break\n",
        "      else:\n",
        "        difference=abs(integer_list[k]-integer_list[k+1])\n",
        "        difference_list.append(difference)\n",
        "      for j in difference_list:\n",
        "         if j not in unique_difference_list:\n",
        "           unique_difference_list.append(j)\n",
        "    print(unique_difference_list)\n",
        "    if len(unique_difference_list)==len(integer_list)-1:\n",
        "      print(\"UB jumper\")\n",
        "    else:\n",
        "      print(\"Not UB jumper\")         "
      ],
      "metadata": {
        "colab": {
          "base_uri": "https://localhost:8080/"
        },
        "id": "Am-X0rayiz7P",
        "outputId": "2fc23417-de66-4261-8772-911a3590d0c5"
      },
      "execution_count": null,
      "outputs": [
        {
          "name": "stdout",
          "output_type": "stream",
          "text": [
            "5 7 8 9\n",
            "[5, 7, 8, 9]\n",
            "[2, 1]\n",
            "Not UB jumper\n",
            "STOP\n"
          ]
        }
      ]
    },
    {
      "cell_type": "markdown",
      "source": [
        "list-4"
      ],
      "metadata": {
        "id": "KnGu9_IAyaK-"
      }
    },
    {
      "cell_type": "code",
      "source": [
        "n_k=str(input())\n",
        "list1=n_k.split(\" \")\n",
        "integer_list_n_k=[]\n",
        "applicable_participant=0\n",
        "times_participated_after_k=0\n",
        "for i in list1:\n",
        "  integer_list_n_k.append(int(i))\n",
        "n=integer_list_n_k[0]\n",
        "k=integer_list_n_k[1]\n",
        "time_participated=str(input())\n",
        "list2=time_participated.split(\" \")\n",
        "list_time_participated=[]\n",
        "for j in list2:\n",
        "  list_time_participated.append(int(j))\n",
        "for x in list_time_participated:\n",
        "  times_participated_after_k=x+k\n",
        "  if times_participated_after_k<=5:\n",
        "    applicable_participant+=1  \n",
        "print(applicable_participant//3)    "
      ],
      "metadata": {
        "colab": {
          "base_uri": "https://localhost:8080/"
        },
        "id": "mTuoV5O5oyQa",
        "outputId": "527acb1b-e5b7-4177-d4d7-aa68a774ea19"
      },
      "execution_count": null,
      "outputs": [
        {
          "output_type": "stream",
          "name": "stdout",
          "text": [
            "6 5\n",
            "0 1 2 3 4 5\n",
            "0\n"
          ]
        }
      ]
    },
    {
      "cell_type": "markdown",
      "source": [
        "Dictionary & tuple 1"
      ],
      "metadata": {
        "id": "T84LFVotGAFg"
      }
    },
    {
      "cell_type": "code",
      "source": [
        "user_input1=input()\n",
        "user_input2=input()\n",
        "list1=user_input1.split(\", \")\n",
        "list2=user_input2.split(\", \")\n",
        "dict1={}\n",
        "for i in list1:\n",
        "  items_of_list1=i.split(\": \")\n",
        "  for j in items_of_list1:\n",
        "    if j not in dict1.keys():\n",
        "      dict1[j]=int(items_of_list1[1])\n",
        "      break\n",
        "    else:\n",
        "      dict1[j]=int(dict1[j]+items_of_list1[1])\n",
        "for k in list2:\n",
        "  items_of_list2=k.split(\": \")\n",
        "  for x in items_of_list2:\n",
        "    if x not in dict1.keys():\n",
        "      dict1[x]=int(items_of_list2[1])\n",
        "      break\n",
        "    else:\n",
        "      dict1[x]=dict1[x]+int(items_of_list2[1])\n",
        "      break\n",
        "print(dict1)\n",
        "values_of_dict1=[]\n",
        "for values in dict1.values():\n",
        "  values_of_dict1.append(values)\n",
        "for w in range(0,len(values_of_dict1)-1):\n",
        "  for e in range(0,len(values_of_dict1)-w-1):\n",
        "    if values_of_dict1[e]>values_of_dict1[e+1]:\n",
        "      temp=values_of_dict1[e]\n",
        "      values_of_dict1[e]=values_of_dict1[e+1]\n",
        "      values_of_dict1[e+1]=temp\n",
        "unique_values_of_dict1=[]\n",
        "for y in values_of_dict1:\n",
        "  if y not in unique_values_of_dict1:\n",
        "    unique_values_of_dict1.append(y)\n",
        "print(tuple(unique_values_of_dict1))              "
      ],
      "metadata": {
        "colab": {
          "base_uri": "https://localhost:8080/"
        },
        "id": "LwwDTjhGGIUi",
        "outputId": "a01690d2-f741-4680-e89a-3d3e322fa576"
      },
      "execution_count": null,
      "outputs": [
        {
          "output_type": "stream",
          "name": "stdout",
          "text": [
            "a: 100, b: 100, c: 200, d: 300\n",
            "a: 300, b: 200, d: 400, e: 200\n",
            "{'a': 400, 'b': 300, 'c': 200, 'd': 700, '300': 300, '200': 200, '400': 400, 'e': 200}\n",
            "(200, 300, 400, 700)\n"
          ]
        }
      ]
    },
    {
      "cell_type": "markdown",
      "source": [
        "Dictionary & Tuple 2"
      ],
      "metadata": {
        "id": "nowUI9ObetpN"
      }
    },
    {
      "cell_type": "code",
      "source": [
        "list1=[]\n",
        "i=0\n",
        "dict1={}\n",
        "while i<10:\n",
        "  user_input=input()\n",
        "  if user_input==\"Stop\" or user_input==\"stop\" or user_input==\"STOP\":\n",
        "    break\n",
        "  else:\n",
        "    list1.append(user_input)\n",
        "for i in list1:\n",
        "  if i not in dict1:\n",
        "    dict1[i]=1\n",
        "  else:\n",
        "    dict1[i]=dict1[i]+1 \n",
        "for j in dict1:\n",
        "  print(j,\"-\",dict1[j],\"times\")     "
      ],
      "metadata": {
        "id": "9a_qrZRdQEFL"
      },
      "execution_count": null,
      "outputs": []
    },
    {
      "cell_type": "markdown",
      "source": [
        "Dictionary & tuple 3\n"
      ],
      "metadata": {
        "id": "QpTDP5FsBV85"
      }
    },
    {
      "cell_type": "code",
      "source": [
        "user_input=input()\n",
        "list1=user_input.split(\", \")\n",
        "print(list1)\n",
        "dict1={}\n",
        "for i in list1:\n",
        "  item=i.split(\" : \")\n",
        "  items=item[::-1]\n",
        "  for k in items:\n",
        "    if k not in dict1.keys():\n",
        "      dict1[k]=[items[1]]\n",
        "      break\n",
        "    else:\n",
        "      dict1[k]=dict1[k]+[items[1]]\n",
        "      break \n",
        "print(dict1)       "
      ],
      "metadata": {
        "id": "vIC2OdKfm0Y4",
        "colab": {
          "base_uri": "https://localhost:8080/"
        },
        "outputId": "7acafc32-619a-40dc-8302-14ddf41a74fb"
      },
      "execution_count": null,
      "outputs": [
        {
          "output_type": "stream",
          "name": "stdout",
          "text": [
            "key1 : value1, key2 : value2, key3 : value1\n",
            "['key1 : value1', 'key2 : value2', 'key3 : value1']\n",
            "{'value1': ['key1', 'key3'], 'value2': ['key2']}\n"
          ]
        }
      ]
    },
    {
      "cell_type": "markdown",
      "source": [
        "Dictionary & Tuple 4"
      ],
      "metadata": {
        "id": "WKT2dorYfgQV"
      }
    },
    {
      "cell_type": "code",
      "source": [
        "dict1={'.':'1',',':'11','?':'111','!':'1111',':':'11111','A':'2','B':'22','C':'222','D':3,'E':33,'F':'333','G':'4','H':'44','I':'444','J':5,'K':'55','L':'555','M':'6','N':'66','O':'666','P':'7','Q':'77','R':'777','S':'7777','T':'8','U':'88','V':'888','W':'9','X':'99','Y':'999','Z':'9999',' ':'0'}\n",
        "user_input=input()\n",
        "empty_string1=\"\"\n",
        "empty_string2=\"\"\n",
        "for i in user_input:\n",
        "  if not ord(i)>=97 and ord(i)<=122:\n",
        "    empty_string1=empty_string1+i\n",
        "  else:\n",
        "    empty_string1+=chr(ord(i)-32)\n",
        "for j in empty_string1:\n",
        "  if j in dict1.keys():\n",
        "    empty_string2+=str(dict1[j])\n",
        "print(empty_string2)    "
      ],
      "metadata": {
        "colab": {
          "base_uri": "https://localhost:8080/"
        },
        "id": "U1858vmLg1Wx",
        "outputId": "e1ab07c2-8cfe-43cf-ae8b-3f22f60264a5"
      },
      "execution_count": null,
      "outputs": [
        {
          "output_type": "stream",
          "name": "stdout",
          "text": [
            "ab s\n",
            "22207777\n"
          ]
        }
      ]
    },
    {
      "cell_type": "markdown",
      "source": [
        "Function 1"
      ],
      "metadata": {
        "id": "QE4SfObscNUD"
      }
    },
    {
      "cell_type": "code",
      "source": [
        "def BMI_calculation(height,weight):\n",
        "  BMI= round(weight/((height/100)**2),1)\n",
        "  if BMI<18.5:\n",
        "    print(\"Score is\",str(BMI)+\".\",\"You are Underweight\")\n",
        "  elif 18.5<=BMI<=24.9:\n",
        "    print(\"Score is\",str(BMI)+\".\",\"You are Normal\")\n",
        "  elif 25<=BMI<=30:\n",
        "    print(\"Score is\",str(BMI)+\".\",\"You are Overweight\")\n",
        "  elif BMI>30:\n",
        "    print(\"Score is\",str(BMI)+\".\",\"You are Obese\")\n",
        "BMI_calculation(175,96)          "
      ],
      "metadata": {
        "colab": {
          "base_uri": "https://localhost:8080/"
        },
        "id": "1EQUZ5YxcP4i",
        "outputId": "f4a61624-20dc-4304-b2e2-58a3fe73f1b3"
      },
      "execution_count": null,
      "outputs": [
        {
          "output_type": "stream",
          "name": "stdout",
          "text": [
            "Score is 31.3. You are Obese\n"
          ]
        }
      ]
    },
    {
      "cell_type": "markdown",
      "source": [
        "Function 2"
      ],
      "metadata": {
        "id": "2c0MhN3kix_s"
      }
    },
    {
      "cell_type": "code",
      "source": [
        "def sum_of_divisor(minimum,maximum,divisor):\n",
        "  total_sum=0\n",
        "  for i in range(minimum,maximum):\n",
        "    if i%divisor==0:\n",
        "      total_sum+=i\n",
        "  return total_sum\n",
        "user_input=input()\n",
        "user_input1=user_input[1:-1]\n",
        "list1=user_input1.split(\", \")\n",
        "for i in range(len(list1)):\n",
        "  if i==0:\n",
        "    minimum1=int(list1[i])\n",
        "  elif i==1:\n",
        "    maximum1=int(list1[i])\n",
        "  elif i==2:\n",
        "    divisor1=int(list1[i])        \n",
        "print(sum_of_divisor(minimum1,maximum1,divisor1))    "
      ],
      "metadata": {
        "colab": {
          "base_uri": "https://localhost:8080/"
        },
        "id": "KoWJw4aljXBx",
        "outputId": "b889fd8b-53e5-4163-e8fd-c6b5aeb93951"
      },
      "execution_count": null,
      "outputs": [
        {
          "output_type": "stream",
          "name": "stdout",
          "text": [
            "(3, 16, 3)\n",
            "45\n"
          ]
        }
      ]
    },
    {
      "cell_type": "markdown",
      "source": [
        "Fucntion 3"
      ],
      "metadata": {
        "id": "BMQNTS47nSZi"
      }
    },
    {
      "cell_type": "code",
      "source": [
        "def calculate_total_price(name_of_burger,place=\"Mohakhali\"):\n",
        "  price_of_burgers={\"BBQ Chicken Cheese Burger\":250,\"Beef Burger\":170,\"Naga Drums\":200}\n",
        "  total_cost=0\n",
        "  if place==\"Mohakhali\":\n",
        "    total_cost=price_of_burgers[name_of_burger]+40+(0.08*price_of_burgers[name_of_burger])\n",
        "  else:\n",
        "    total_cost=price_of_burgers[name_of_burger]+60+(0.08*price_of_burgers[name_of_burger])\n",
        "  print(total_cost)\n",
        "calculate_total_price(\"Naga Drums\",\"Gulshan\")    "
      ],
      "metadata": {
        "colab": {
          "base_uri": "https://localhost:8080/"
        },
        "id": "EV9o539NnUZZ",
        "outputId": "9aa77c80-67d0-4a39-84a0-f66f1494c371"
      },
      "execution_count": null,
      "outputs": [
        {
          "output_type": "stream",
          "name": "stdout",
          "text": [
            "276.0\n"
          ]
        }
      ]
    },
    {
      "cell_type": "markdown",
      "source": [
        "Function 4"
      ],
      "metadata": {
        "id": "eyVmR5awrk0R"
      }
    },
    {
      "cell_type": "code",
      "source": [
        "def replace_old_domain(the_email_address_to_be_checked,the_new_domain,the_old_domain=\"sheba.xyz\"):\n",
        "  list1=the_email_address_to_be_checked.split(\"@\")\n",
        "  if the_old_domain==\"sheba.xyz\":\n",
        "    print(\"Unchanged:\",the_email_address_to_be_checked)\n",
        "  else:\n",
        "    print(\"Changed:\",list1[0]+\"@\"+the_new_domain)\n",
        "replace_old_domain(\"alice@kaaj.com\", \"sheba.xyz\", \"kaaj.com\")"
      ],
      "metadata": {
        "colab": {
          "base_uri": "https://localhost:8080/"
        },
        "id": "bI1suYCirkMx",
        "outputId": "3f47501f-3923-4d04-88a8-22dd7d887699"
      },
      "execution_count": 1,
      "outputs": [
        {
          "output_type": "stream",
          "name": "stdout",
          "text": [
            "Changed: alice@sheba.xyz\n"
          ]
        }
      ]
    },
    {
      "cell_type": "markdown",
      "source": [
        "Function 5"
      ],
      "metadata": {
        "id": "GsvOdWHduhVw"
      }
    },
    {
      "cell_type": "code",
      "source": [
        "def show_palindrome(user_input):\n",
        "  empty_string=\"\"\n",
        "  for i in user_input:\n",
        "    if i!=\" \":\n",
        "      empty_string+=i\n",
        "  if empty_string==empty_string[::-1]:\n",
        "    print(\"Palindrome\")\n",
        "  else:\n",
        "    print(\"Not palindrome\")\n",
        "show_palindrome(\"none\")          "
      ],
      "metadata": {
        "colab": {
          "base_uri": "https://localhost:8080/"
        },
        "id": "_BpsgpOEyHNA",
        "outputId": "7c77886d-640f-478f-96fb-7f70e655b904"
      },
      "execution_count": null,
      "outputs": [
        {
          "output_type": "stream",
          "name": "stdout",
          "text": [
            "Not palindrome\n"
          ]
        }
      ]
    },
    {
      "cell_type": "markdown",
      "source": [
        "Function 5"
      ],
      "metadata": {
        "id": "qNQCuR8X68X9"
      }
    },
    {
      "cell_type": "code",
      "source": [
        "def corrected_copy(user_input1):\n",
        "  empty_string=\"\"\n",
        "  special_character=\".!?\"\n",
        "  for j in range(len(user_input1)):\n",
        "    if j==0:\n",
        "      empty_string+=chr(ord(user_input1[j])-32)\n",
        "    elif user_input1[j-2] in special_character and user_input1[j-1]==\" \":\n",
        "      empty_string+=chr(ord(user_input1[j])-32)\n",
        "    elif user_input1[j]==\"i\" and user_input1[j+1]==\" \":\n",
        "      empty_string+=chr(ord(user_input1[j])-32)  \n",
        "    else:\n",
        "      empty_string+=user_input1[j]\n",
        "  print(empty_string)            \n",
        "corrected_copy(\"my favourite animal is a dog. a dog has sharp teeth so that it can eat flesh very easily. do you know my pet dog’s name? i love my pet very much.\")      "
      ],
      "metadata": {
        "colab": {
          "base_uri": "https://localhost:8080/"
        },
        "id": "jCrYoYPY6-yv",
        "outputId": "f8f21868-fffa-42b3-b54e-b223d70edd41"
      },
      "execution_count": null,
      "outputs": [
        {
          "output_type": "stream",
          "name": "stdout",
          "text": [
            "My favourite animal is a dog. A dog has sharp teeth so that it can eat flesh very easily. Do you know my pet dog’s name? I love my pet very much.\n"
          ]
        }
      ]
    }
  ]
}