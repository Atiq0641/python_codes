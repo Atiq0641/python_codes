{
  "cells": [
    {
      "cell_type": "markdown",
      "metadata": {
        "id": "view-in-github",
        "colab_type": "text"
      },
      "source": [
        "<a href=\"https://colab.research.google.com/github/Atiq0641/python_codes/blob/main/Lab_Assignment_06.ipynb\" target=\"_parent\"><img src=\"https://colab.research.google.com/assets/colab-badge.svg\" alt=\"Open In Colab\"/></a>"
      ]
    },
    {
      "cell_type": "markdown",
      "metadata": {
        "id": "CRnYc62B7v8A"
      },
      "source": [
        "Task 01"
      ]
    },
    {
      "cell_type": "code",
      "execution_count": null,
      "metadata": {
        "colab": {
          "base_uri": "https://localhost:8080/"
        },
        "id": "TC6UK41UCZkz",
        "outputId": "a41754cc-269e-4aea-9a86-519de01ffd95"
      },
      "outputs": [
        {
          "output_type": "stream",
          "name": "stdout",
          "text": [
            "Odd!!\n"
          ]
        }
      ],
      "source": [
        "def evenchecker(a):\n",
        "  if a%2==0:\n",
        "    print(\"Even!!\")\n",
        "  else:\n",
        "    print(\"Odd!!\")\n",
        "\n",
        "evenchecker(11)     "
      ]
    },
    {
      "cell_type": "markdown",
      "metadata": {
        "id": "Ck2ZqbOY76cV"
      },
      "source": [
        "Task 02"
      ]
    },
    {
      "cell_type": "code",
      "execution_count": null,
      "metadata": {
        "colab": {
          "base_uri": "https://localhost:8080/"
        },
        "id": "Nk401PaY76Hn",
        "outputId": "bd110bd2-ddbd-48f7-ce1f-6e74a0d8ecee"
      },
      "outputs": [
        {
          "name": "stdout",
          "output_type": "stream",
          "text": [
            "0 1 1 2 3 5 "
          ]
        }
      ],
      "source": [
        "def fibonacci(x):\n",
        "  a=0\n",
        "  b=1\n",
        "  c=0\n",
        "  if x>=0:\n",
        "    while c<=x:\n",
        "      a=b\n",
        "      b=c\n",
        "      print(c,end=\" \")\n",
        "      c=a+b\n",
        "  else:\n",
        "    print(\"Please enter postive value\")    \n",
        "      \n",
        "fibonacci(5)"
      ]
    },
    {
      "cell_type": "markdown",
      "metadata": {
        "id": "zyClrQDW7yE4"
      },
      "source": [
        "Task 03"
      ]
    },
    {
      "cell_type": "code",
      "execution_count": null,
      "metadata": {
        "colab": {
          "base_uri": "https://localhost:8080/"
        },
        "id": "V3Rh261LDEMQ",
        "outputId": "cbbf7cfd-2aba-4b09-a3be-b4cc21eed454"
      },
      "outputs": [
        {
          "name": "stdout",
          "output_type": "stream",
          "text": [
            "FooMooo\n"
          ]
        }
      ],
      "source": [
        "def foo_moo(a):\n",
        "  if a%2==0 and a%3==0:\n",
        "    return \"FooMooo\"\n",
        "  elif a%2==0:\n",
        "    return \"Foo\"\n",
        "  elif a%3==0:\n",
        "    return \"Moo\"\n",
        "  else:\n",
        "    return \"Boo\"  \n",
        "print(foo_moo(6))    "
      ]
    },
    {
      "cell_type": "markdown",
      "metadata": {
        "id": "25jmMx2_70VW"
      },
      "source": [
        "Task 04"
      ]
    },
    {
      "cell_type": "code",
      "execution_count": null,
      "metadata": {
        "colab": {
          "base_uri": "https://localhost:8080/"
        },
        "id": "yRDFLEviHgw4",
        "outputId": "e0dc0e06-597f-4aad-a5b1-9c087b0d9299"
      },
      "outputs": [
        {
          "name": "stdout",
          "output_type": "stream",
          "text": [
            "No. of Uppercase characters : 5\n",
            "No. of Lowercase Characters: 9\n"
          ]
        }
      ],
      "source": [
        "def function_name(x):\n",
        "  count1=0\n",
        "  count2=0\n",
        "  for i in x:\n",
        "    if ord(i)>=97 and ord(i)<=122:\n",
        "      count1=count1+1\n",
        "    elif ord(i)>=65 and ord(i)<=90:\n",
        "      count2=count2+1   \n",
        "  print(\"No. of Uppercase characters :\",count2)\n",
        "  print(\"No. of Lowercase Characters:\",count1)  \n",
        "function_name('HaRRy PotteR') "
      ]
    },
    {
      "cell_type": "markdown",
      "metadata": {
        "id": "PwtqndlA-Jc9"
      },
      "source": [
        "Task 05"
      ]
    },
    {
      "cell_type": "code",
      "execution_count": null,
      "metadata": {
        "colab": {
          "base_uri": "https://localhost:8080/"
        },
        "id": "okhC7M1t-Mq9",
        "outputId": "01159b49-4fe1-4ac0-ee62-1188ff0873b6"
      },
      "outputs": [
        {
          "output_type": "stream",
          "name": "stdout",
          "text": [
            "20\n",
            "18000\n",
            "assistant manager\n",
            "900.0\n"
          ]
        }
      ],
      "source": [
        "def calculate_tax(a,b,c):\n",
        "\n",
        "  if a>=0 and a<18:\n",
        "    return 0\n",
        "  else:\n",
        "    if c==\"president\" or c==\"President\":\n",
        "      return 0\n",
        "    else: \n",
        "      if b<10000:\n",
        "        return \"No tax\"  \n",
        "      elif b>=10000 and b<20000:\n",
        "        return (b/100)*5\n",
        "      else:\n",
        "        return (b/100)*10    \n",
        "\n",
        "a=int(input())\n",
        "b=int(input())\n",
        "c=input()\n",
        "print(calculate_tax(20, 18000, 'assistant manager'))"
      ]
    },
    {
      "cell_type": "markdown",
      "metadata": {
        "id": "3DU9bHhoENre"
      },
      "source": [
        "Task 06"
      ]
    },
    {
      "cell_type": "code",
      "execution_count": null,
      "metadata": {
        "colab": {
          "base_uri": "https://localhost:8080/"
        },
        "id": "aKLJ-GtyEPgj",
        "outputId": "17b0655a-6196-4bb0-c846-cffa79f95028"
      },
      "outputs": [
        {
          "name": "stdout",
          "output_type": "stream",
          "text": [
            "6 years 2 months and 0 days\n"
          ]
        }
      ],
      "source": [
        "def function_name(x):\n",
        "  a=x//365\n",
        "  b=x%365\n",
        "  c=b//30\n",
        "  d=b%30\n",
        "  print(a,\"years\",c,\"months\",\"and\",d,\"days\")\n",
        "function_name(2250)  "
      ]
    },
    {
      "cell_type": "markdown",
      "metadata": {
        "id": "jKHm5XsyFTx0"
      },
      "source": [
        "Task 07"
      ]
    },
    {
      "cell_type": "code",
      "execution_count": null,
      "metadata": {
        "colab": {
          "base_uri": "https://localhost:8080/"
        },
        "id": "A_AyEJJOFV01",
        "outputId": "54f02be7-001f-46b1-ab97-0c6c03a4d22d"
      },
      "outputs": [
        {
          "output_type": "stream",
          "name": "stdout",
          "text": [
            "123454321\n"
          ]
        }
      ],
      "source": [
        "def show_palindrome(x):\n",
        "  ab=\"\"\n",
        "  abc=\"\"\n",
        "  i=1\n",
        "  j=1\n",
        "  while i<x:\n",
        "    ab+=str(i)\n",
        "    i=i+1  \n",
        "  while x>=j:\n",
        "    abc+=str(x)\n",
        "    x=x-1  \n",
        "  return ab+abc\n",
        "print(show_palindrome(5))"
      ]
    },
    {
      "cell_type": "code",
      "source": [
        "def show_palindrome(x):\n",
        "  abc=\"\"\n",
        "  abcd=\"\"\n",
        "  for i in range(1,x+1):\n",
        "      abc+=str(i)\n",
        "  for i in range (1,x):\n",
        "    abcd+=str(i) \n",
        "  return (abc+abcd[::-1])            \n",
        "print(show_palindrome(5))    "
      ],
      "metadata": {
        "colab": {
          "base_uri": "https://localhost:8080/"
        },
        "id": "CC6U7SQexUrq",
        "outputId": "f8d800ee-0f9e-4caa-a98f-b8d0fca2197f"
      },
      "execution_count": null,
      "outputs": [
        {
          "output_type": "stream",
          "name": "stdout",
          "text": [
            "123454321\n"
          ]
        }
      ]
    },
    {
      "cell_type": "markdown",
      "metadata": {
        "id": "Burmr07_IqS0"
      },
      "source": [
        "Task 08"
      ]
    },
    {
      "cell_type": "code",
      "execution_count": null,
      "metadata": {
        "colab": {
          "base_uri": "https://localhost:8080/"
        },
        "id": "WR03YbcUGgOY",
        "outputId": "c7941209-9251-4596-9350-cf3d4f705961"
      },
      "outputs": [
        {
          "output_type": "stream",
          "name": "stdout",
          "text": [
            "123454321\n",
            "123454321\n",
            "123454321\n"
          ]
        }
      ],
      "source": [
        "def show_palindrome(x):\n",
        "  abc=\"\"\n",
        "  abcd=\"\"\n",
        "  for i in range(1,x+1):\n",
        "      abc+=str(i)\n",
        "  for i in range (1,x):\n",
        "    abcd+=str(i) \n",
        "  return print(abc+abcd[::-1])            \n",
        "show_palindrome(5)    \n",
        "\n",
        "def show_palindromic_triangle(x):\n",
        "  for i in (1,x+1):\n",
        "    show_palindrome(x)\n",
        "    \n",
        "show_palindromic_triangle(5)    "
      ]
    },
    {
      "cell_type": "markdown",
      "metadata": {
        "id": "8quZjOD9Ujc1"
      },
      "source": [
        "Task 09"
      ]
    },
    {
      "cell_type": "code",
      "execution_count": null,
      "metadata": {
        "colab": {
          "base_uri": "https://localhost:8080/"
        },
        "id": "_xom_DsmM4x9",
        "outputId": "d4a0dcc2-77b4-41ab-90fd-9983053ac13c"
      },
      "outputs": [
        {
          "output_type": "stream",
          "name": "stdout",
          "text": [
            "(19.634954084936208, 15.707963267948966)\n",
            "Area of the circle is 19.634954084936208 and circumference is 15.707963267948966\n"
          ]
        }
      ],
      "source": [
        "from math import pi as pi_value\n",
        "def area_circumference_generator(r):\n",
        "  area= pi_value*r*r\n",
        "  circumference= 2* pi_value*r\n",
        "  a=(area,circumference)\n",
        "  return a\n",
        "t=area_circumference_generator(2.5)\n",
        "c,d=t\n",
        "print(t)\n",
        "print(\"Area of the circle is\",c,\"and circumference is\",d)"
      ]
    },
    {
      "cell_type": "markdown",
      "metadata": {
        "id": "Dk1Ob5DCWcd4"
      },
      "source": [
        "Task 10"
      ]
    },
    {
      "cell_type": "code",
      "execution_count": null,
      "metadata": {
        "colab": {
          "base_uri": "https://localhost:8080/"
        },
        "id": "mtS5KmfuWedc",
        "outputId": "03bdb3ce-456f-4333-9a9b-e79e6f2fad7f"
      },
      "outputs": [
        {
          "output_type": "stream",
          "name": "stdout",
          "text": [
            "{5: 25, 6: 36, 7: 49, 8: 64, 9: 81}\n"
          ]
        }
      ],
      "source": [
        "def make_square(a):\n",
        "  b,c=a\n",
        "  dict1={}\n",
        "  for i in range (b,c+1):\n",
        "    dict1[i]=i*i\n",
        "  return dict1 \n",
        "print(make_square((5,9)))  "
      ]
    },
    {
      "cell_type": "markdown",
      "metadata": {
        "id": "lt1Ro_VJYl06"
      },
      "source": [
        "Task 11"
      ]
    },
    {
      "cell_type": "code",
      "execution_count": null,
      "metadata": {
        "colab": {
          "base_uri": "https://localhost:8080/"
        },
        "id": "KdtZfSmVYoxL",
        "outputId": "3eb2a3de-44ba-43a0-e49b-bcb9e85099db"
      },
      "outputs": [
        {
          "output_type": "stream",
          "name": "stdout",
          "text": [
            "('Hi', 1, 2, 3, 'a', [1, 2])\n"
          ]
        }
      ],
      "source": [
        "def rem_duplicate(a):\n",
        "  list1=[]\n",
        "  b=list(a)\n",
        "  for i in b:\n",
        "    if i not in list1:\n",
        "      list1.append(i)\n",
        "      c=tuple(list1)\n",
        "  return c    \n",
        "\n",
        "print(rem_duplicate((\"Hi\", 1, 2, 3, 3, \"Hi\",'a', 'a', [1,2])))"
      ]
    },
    {
      "cell_type": "markdown",
      "metadata": {
        "id": "5FYbkfxRZg2c"
      },
      "source": [
        "Task 12"
      ]
    },
    {
      "cell_type": "code",
      "execution_count": null,
      "metadata": {
        "colab": {
          "base_uri": "https://localhost:8080/"
        },
        "id": "YfXVmO1caBn4",
        "outputId": "f3463577-a809-4d23-8700-1f54e99bdc39"
      },
      "outputs": [
        {
          "output_type": "stream",
          "name": "stdout",
          "text": [
            "Removed: 2\n",
            "[1, 2, 3, 3, 4, 5, 8, 8]\n"
          ]
        }
      ],
      "source": [
        "def function_name(a):\n",
        "  list1=[]\n",
        "  removed_items=[]\n",
        "  count=0\n",
        "  for i in a:\n",
        "    if list1.count(i)<2:\n",
        "      list1.append(i)\n",
        "    else:\n",
        "      removed_items.append(i)\n",
        "  for i in removed_items:\n",
        "    count=count+1    \n",
        "  print(\"Removed:\",count)\n",
        "  return list1\n",
        "print(function_name([1, 2, 3, 3, 3, 3, 4, 5, 8, 8]))\n"
      ]
    },
    {
      "cell_type": "markdown",
      "metadata": {
        "id": "d2RQXdhJin1Z"
      },
      "source": [
        "Task 13"
      ]
    },
    {
      "cell_type": "code",
      "execution_count": null,
      "metadata": {
        "colab": {
          "base_uri": "https://localhost:8080/"
        },
        "id": "4swYKvLOir01",
        "outputId": "dfdd92d2-170d-48b0-e2e4-cefa96ad5bd1"
      },
      "outputs": [
        {
          "output_type": "stream",
          "name": "stdout",
          "text": [
            "+\n",
            "10\n",
            "20\n",
            "30.0\n"
          ]
        }
      ],
      "source": [
        "def function_name(a,b,c):\n",
        "  if a== \"+\":\n",
        "    return (b + c)\n",
        "  if a== \"-\":\n",
        "    return (b-c)\n",
        "  if a== \"*\":\n",
        "    return (b*c)\n",
        "  if a== \"/\":\n",
        "    return (b/c)\n",
        "\n",
        "a=input()  \n",
        "b=float(input())\n",
        "c=float(input())        \n",
        "\n",
        "print(function_name(a,b,c))\n"
      ]
    },
    {
      "cell_type": "markdown",
      "metadata": {
        "id": "N0TPPS8krgg0"
      },
      "source": [
        "Task 14"
      ]
    },
    {
      "cell_type": "code",
      "execution_count": null,
      "metadata": {
        "colab": {
          "base_uri": "https://localhost:8080/"
        },
        "id": "HuHG7kx7pGbl",
        "outputId": "5a3ccd2d-6f2c-4185-b35f-44c1b8236810"
      },
      "outputs": [
        {
          "output_type": "stream",
          "name": "stdout",
          "text": [
            "\"I love programming.\"\n",
            "3\n",
            "I lveprgrmmngo oai.\n"
          ]
        }
      ],
      "source": [
        "def function_name(a,b):\n",
        "  a1=a[1:-1]\n",
        "  empty_string=\"\"\n",
        "  empty2=\"\"\n",
        "  empty3=\"\"\n",
        "  for i in range(1,len(a1)):\n",
        "    if not i%b==0:\n",
        "      empty_string=empty_string+a1[i]\n",
        "    else:\n",
        "      empty2=empty2+a1[i]      \n",
        "  empty3=a1[0]+empty_string+empty2\n",
        "  return empty3\n",
        "a=input()\n",
        "b=int(input())\n",
        "print(function_name(a,b))"
      ]
    },
    {
      "cell_type": "code",
      "execution_count": null,
      "metadata": {
        "colab": {
          "base_uri": "https://localhost:8080/"
        },
        "id": "109_5Dnl4aC3",
        "outputId": "42ed33ec-62d0-41d6-8cea-c5e6fc7a3f55"
      },
      "outputs": [
        {
          "output_type": "stream",
          "name": "stdout",
          "text": [
            "[\"Rice\", \"Beef\", \"Rice\"]\n",
            "750\n"
          ]
        }
      ],
      "source": [
        "dict1={\"Rice\":105,\"Potato\":20,\"Chicken\":250,\"Beef\":510,\"Oil\":85}\n",
        "def function_name(a,b=\"Dhanmondi\"):\n",
        "  items=input()\n",
        "  items1=(items[1:-1].split(', '))\n",
        "  items2=[]\n",
        "  sum=0\n",
        "  for i in items1:\n",
        "    items2.append(i[1:-1])\n",
        "  for j in items2:\n",
        "    if j in dict1:\n",
        "      sum=sum+dict1[j]  \n",
        "  if b!=\"Dhanmondi\":\n",
        "    return (sum+70)\n",
        "  else:\n",
        "    return (sum+30)\n",
        "print(function_name([\"Rice\", \"Beef\", \"Rice\"]))"
      ]
    },
    {
      "cell_type": "markdown",
      "source": [
        "string to list"
      ],
      "metadata": {
        "id": "3J5SQ1UCryU-"
      }
    },
    {
      "cell_type": "code",
      "source": [
        "dict1={\"Rice\":105,\"Potato\":20,\"Chicken\":250,\"Beef\":510,\"Oil\":85}\n",
        "items=input()\n",
        "items1=(items[1:-1].split(', '))\n",
        "items2=[]\n",
        "print(items1)\n",
        "for i in items1:\n",
        "  items2.append(i[1:-1])\n",
        "print(items2)\n",
        "for j in items2:\n",
        "  if j in dict1:\n",
        "    print(j)  "
      ],
      "metadata": {
        "colab": {
          "base_uri": "https://localhost:8080/"
        },
        "id": "ev79jtXLnBgH",
        "outputId": "b7d64157-9c07-430c-fe3e-d7c4e8871269"
      },
      "execution_count": null,
      "outputs": [
        {
          "output_type": "stream",
          "name": "stdout",
          "text": [
            "[\"Rice\", \"Beef\", \"Rice\"]\n",
            "['\"Rice\"', '\"Beef\"', '\"Rice\"']\n",
            "['Rice', 'Beef', 'Rice']\n",
            "Rice\n",
            "Beef\n",
            "Rice\n"
          ]
        }
      ]
    }
  ],
  "metadata": {
    "colab": {
      "name": "Lab Assignment 06.ipynb",
      "provenance": [],
      "authorship_tag": "ABX9TyOtkF5PnFDG02kGVXzNmjm5",
      "include_colab_link": true
    },
    "kernelspec": {
      "display_name": "Python 3",
      "name": "python3"
    },
    "language_info": {
      "name": "python"
    }
  },
  "nbformat": 4,
  "nbformat_minor": 0
}