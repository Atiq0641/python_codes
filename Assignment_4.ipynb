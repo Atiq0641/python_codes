{
  "nbformat": 4,
  "nbformat_minor": 0,
  "metadata": {
    "colab": {
      "name": "Assignment 4.ipynb",
      "provenance": [],
      "collapsed_sections": [],
      "authorship_tag": "ABX9TyPXApZPUD4t3iOIX6UbIvs5",
      "include_colab_link": true
    },
    "kernelspec": {
      "name": "python3",
      "display_name": "Python 3"
    },
    "language_info": {
      "name": "python"
    }
  },
  "cells": [
    {
      "cell_type": "markdown",
      "metadata": {
        "id": "view-in-github",
        "colab_type": "text"
      },
      "source": [
        "<a href=\"https://colab.research.google.com/github/Atiq0641/python_codes/blob/main/Assignment_4.ipynb\" target=\"_parent\"><img src=\"https://colab.research.google.com/assets/colab-badge.svg\" alt=\"Open In Colab\"/></a>"
      ]
    },
    {
      "cell_type": "markdown",
      "source": [
        "Task 1"
      ],
      "metadata": {
        "id": "XNKO_4aZ16zN"
      }
    },
    {
      "cell_type": "code",
      "execution_count": null,
      "metadata": {
        "colab": {
          "base_uri": "https://localhost:8080/"
        },
        "id": "PGzgLMBJz7SP",
        "outputId": "7cc94078-3d8d-4bf3-81a6-170226ee89ff"
      },
      "outputs": [
        {
          "output_type": "stream",
          "name": "stdout",
          "text": [
            "Hello!\n",
            "Sam you have purchased 3 item(s):\n",
            "chips\n",
            "chocolate\n",
            "orange juice\n",
            "-----------------------------\n",
            "Hello! David\n",
            "David you have purchased 1 item(s):\n",
            "orange juice\n"
          ]
        }
      ],
      "source": [
        "class Customer:\n",
        "  def __init__(self,name=None):\n",
        "    self.name=name\n",
        "  def greet(self,customer_name=None):\n",
        "    self.customer_name=customer_name\n",
        "    if self.customer_name is not None:\n",
        "      print(f'Hello! {self.customer_name}')\n",
        "    else:\n",
        "      print(f'Hello!')\n",
        "  def purchase(self,*items):\n",
        "    self.items=items\n",
        "    print(f'{self.name} you have purchased {len(items)} item(s):')\n",
        "    for i in self.items:\n",
        "      print(i)\n",
        "customer_1 = Customer(\"Sam\")\n",
        "customer_1.greet()\n",
        "customer_1.purchase(\"chips\", \"chocolate\", \"orange juice\")\n",
        "print(\"-----------------------------\")\n",
        "customer_2 = Customer(\"David\")\n",
        "customer_2.greet(\"David\")\n",
        "customer_2.purchase(\"orange juice\")        "
      ]
    },
    {
      "cell_type": "markdown",
      "source": [
        "Task 2"
      ],
      "metadata": {
        "id": "l8VImZCQ3iiz"
      }
    },
    {
      "cell_type": "code",
      "source": [
        "class Panda:\n",
        "  def __init__(self,name,gender,age):\n",
        "    self.name=name\n",
        "    self.gender=gender\n",
        "    self.age=age\n",
        "  def sleep(self,sleeping_hour=0):\n",
        "    self.sleeping_hour=sleeping_hour\n",
        "    if 3<=self.sleeping_hour<=5:\n",
        "      return f'{self.name} sleeps {self.sleeping_hour} hours daily and should have Mixed Veggies'\n",
        "    elif 6<=self.sleeping_hour<=8:\n",
        "      return f'{self.name} sleeps {self.sleeping_hour} hours daily and should have Eggplant & Tofu'\n",
        "    elif 9<=self.sleeping_hour<=11:\n",
        "      return f'{self.name} sleeps {self.sleeping_hour} hours daily and should have Broccoli Chicken'  \n",
        "    else:\n",
        "      return f'{self.name} duration is unknown thus should have only bamboo leaves.'\n",
        "panda1 = Panda(\"Kunfu\",\"Male\", 5)\n",
        "panda2=Panda(\"Pan Pan\",\"Female\",3)\n",
        "panda3=Panda(\"Ming Ming\",\"Female\",8)\n",
        "print(\"{} is a {} Panda Bear who is {} years old\".format(panda1.name,panda1.gender,panda1.age))\n",
        "print(\"{} is a {} Panda Bear who is {} years old\".format(panda2.name,panda2.gender,panda2.age))\n",
        "print(\"{} is a {} Panda Bear who is {} years old\".format(panda3.name,panda3.gender,panda3.age))\n",
        "print(\"===========================\")\n",
        "print(panda2.sleep(10))\n",
        "print(panda1.sleep(4))\n",
        "print(panda3.sleep())      "
      ],
      "metadata": {
        "colab": {
          "base_uri": "https://localhost:8080/"
        },
        "id": "LtvLp_OK2CVc",
        "outputId": "635a5b8b-afa3-4d7a-e913-f98b93169203"
      },
      "execution_count": null,
      "outputs": [
        {
          "output_type": "stream",
          "name": "stdout",
          "text": [
            "Kunfu is a Male Panda Bear who is 5 years old\n",
            "Pan Pan is a Female Panda Bear who is 3 years old\n",
            "Ming Ming is a Female Panda Bear who is 8 years old\n",
            "===========================\n",
            "Pan Pan sleeps 10 hours daily and should have Broccoli Chicken\n",
            "Kunfu sleeps 4 hours daily and should have Mixed Veggies\n",
            "Ming Ming duration is unknown thus should have only bamboo leaves.\n"
          ]
        }
      ]
    },
    {
      "cell_type": "markdown",
      "source": [
        "Task 3"
      ],
      "metadata": {
        "id": "M2CqbQ-E3vBj"
      }
    },
    {
      "cell_type": "code",
      "source": [
        "class Cat:\n",
        "  def __init__(self,color='White',activity='sitting'):\n",
        "    self.color=color\n",
        "    self.activity=activity\n",
        "  def printCat(self):\n",
        "    print(f'{self.color} cat is {self.activity}')\n",
        "  def changeColor(self,color=None):\n",
        "    self.color=color\n",
        "c1 = Cat()\n",
        "c2 = Cat(\"Black\")\n",
        "c3 = Cat(\"Brown\", \"jumping\")\n",
        "c4 = Cat(\"Red\", \"purring\")\n",
        "c1.printCat()\n",
        "c2.printCat()\n",
        "c3.printCat()\n",
        "c4.printCat()\n",
        "c1.changeColor(\"Blue\")\n",
        "c3.changeColor(\"Purple\")\n",
        "c1.printCat()\n",
        "c3.printCat()    "
      ],
      "metadata": {
        "colab": {
          "base_uri": "https://localhost:8080/"
        },
        "id": "cNY0zFmM3ur8",
        "outputId": "a327b92e-3eec-4eee-ec03-1f71ee2ad6aa"
      },
      "execution_count": null,
      "outputs": [
        {
          "output_type": "stream",
          "name": "stdout",
          "text": [
            "White cat is sitting\n",
            "Black cat is sitting\n",
            "Brown cat is jumping\n",
            "Red cat is purring\n",
            "Blue cat is sitting\n",
            "Purple cat is jumping\n"
          ]
        }
      ]
    },
    {
      "cell_type": "markdown",
      "source": [
        "Task 4"
      ],
      "metadata": {
        "id": "Nfc0ibUr3rN8"
      }
    },
    {
      "cell_type": "code",
      "source": [
        "class Student:\n",
        "  def __init__(self,name=\"default student\"):\n",
        "    self.name=name\n",
        "  def quizcalc(self,*quiz_number):\n",
        "    self.sum=0\n",
        "    self.average=0\n",
        "    self.quiz_number=quiz_number\n",
        "    for i in self.quiz_number:\n",
        "      self.sum+=int(i)\n",
        "    self.average=self.sum/3\n",
        "    return self.average\n",
        "  def printdetail(self):\n",
        "    print(f'Hello {self.name}\\nYour average quiz score is {self.average}')   \n",
        "s1 = Student()\n",
        "s1.quizcalc(10)\n",
        "print('--------------------------------')\n",
        "s1.printdetail()\n",
        "s2 = Student('Harry')\n",
        "s2.quizcalc(10,8)\n",
        "print('--------------------------------')\n",
        "s2.printdetail()\n",
        "s3 = Student('Hermione')\n",
        "s3.quizcalc(10,9,10)\n",
        "print('--------------------------------')\n",
        "s3.printdetail()      "
      ],
      "metadata": {
        "colab": {
          "base_uri": "https://localhost:8080/"
        },
        "id": "TE_0Yvk065kS",
        "outputId": "06f028cb-ed8d-499f-ac40-e8c7376e87b1"
      },
      "execution_count": null,
      "outputs": [
        {
          "output_type": "stream",
          "name": "stdout",
          "text": [
            "--------------------------------\n",
            "Hello default student\n",
            "Your average quiz score is 3.3333333333333335\n",
            "--------------------------------\n",
            "Hello Harry\n",
            "Your average quiz score is 6.0\n",
            "--------------------------------\n",
            "Hello Hermione\n",
            "Your average quiz score is 9.666666666666666\n"
          ]
        }
      ]
    },
    {
      "cell_type": "markdown",
      "source": [
        "Task 5"
      ],
      "metadata": {
        "id": "kmvocmud5K-i"
      }
    },
    {
      "cell_type": "code",
      "source": [
        "class Student:\n",
        "  def __init__(self,name,id,department=\"CSE\"):\n",
        "    self.name=name\n",
        "    self.id=id\n",
        "    self.department=department\n",
        "  def dailyEffort(self,effort):\n",
        "    self.effort=effort\n",
        "  def printDetails(self):\n",
        "    print(f'Name: {self.name}\\nID: {self.id}\\nDepartment: {self.department}\\nDaily Effort: {self.effort} hour(s)')  \n",
        "    if self.effort<=2:\n",
        "      print(f'Suggestion: Should give more effort!')\n",
        "    elif 2<self.effort<=4:\n",
        "      print(f'Suggestion: Keep up the good work!')\n",
        "    else:\n",
        "      print(f'Suggestion: Excellent! Now motivate others.')\n",
        "harry = Student('Harry Potter', 123)\n",
        "harry.dailyEffort(3)\n",
        "harry.printDetails()\n",
        "print('========================')\n",
        "john = Student(\"John Wick\", 456, \"BBA\")\n",
        "john.dailyEffort(2)\n",
        "john.printDetails()\n",
        "print('========================')\n",
        "naruto = Student(\"Naruto Uzumaki\", 777, \"Ninja\")\n",
        "naruto.dailyEffort(6)\n",
        "naruto.printDetails()          "
      ],
      "metadata": {
        "colab": {
          "base_uri": "https://localhost:8080/"
        },
        "id": "nIuqPq9V5MfZ",
        "outputId": "32585e25-4a26-4b8c-aefd-df3e6e09f42c"
      },
      "execution_count": null,
      "outputs": [
        {
          "output_type": "stream",
          "name": "stdout",
          "text": [
            "Name: Harry Potter\n",
            "ID: 123\n",
            "Department: CSE\n",
            "Daily Effort: 3 hour(s)\n",
            "Suggestion: Keep up the good work!\n",
            "========================\n",
            "Name: John Wick\n",
            "ID: 456\n",
            "Department: BBA\n",
            "Daily Effort: 2 hour(s)\n",
            "Suggestion: Should give more effort!\n",
            "========================\n",
            "Name: Naruto Uzumaki\n",
            "ID: 777\n",
            "Department: Ninja\n",
            "Daily Effort: 6 hour(s)\n",
            "Suggestion: Excellent! Now motivate others.\n"
          ]
        }
      ]
    },
    {
      "cell_type": "markdown",
      "source": [
        "Task 6"
      ],
      "metadata": {
        "id": "r9cXY14I7Phf"
      }
    },
    {
      "cell_type": "code",
      "source": [
        "class Patient:\n",
        "  def __init__(self,name,age):\n",
        "    self.name=name\n",
        "    self.age=age\n",
        "  def add_Symptom(self,*symptom):\n",
        "    self.symptom=symptom\n",
        "  def printPatientDetail(self):\n",
        "    print(f'Name: {self.name}\\nAge: {self.age}')\n",
        "    x=''\n",
        "    for i in self.symptom:\n",
        "      x+=i+','\n",
        "    print(\"Symptoms:\",x[:-1])  \n",
        "p1 = Patient('Thomas', 23)\n",
        "p1.add_Symptom('Headache')\n",
        "p2 = Patient('Carol', 20)\n",
        "p2.add_Symptom('Vomiting', 'Coughing')\n",
        "p3 = Patient('Mike', 25)\n",
        "p3.add_Symptom('Fever', 'Headache', 'Coughing')\n",
        "print(\"=========================\")\n",
        "p1.printPatientDetail()\n",
        "print(\"=========================\")\n",
        "p2.printPatientDetail()\n",
        "print(\"=========================\")\n",
        "p3.printPatientDetail()    "
      ],
      "metadata": {
        "colab": {
          "base_uri": "https://localhost:8080/"
        },
        "id": "t2Ve3_jN7OQg",
        "outputId": "4b58f8c6-4a32-496d-c679-d1fbbd588c36"
      },
      "execution_count": null,
      "outputs": [
        {
          "output_type": "stream",
          "name": "stdout",
          "text": [
            "=========================\n",
            "Name: Thomas\n",
            "Age: 23\n",
            "Symptoms: Headache\n",
            "=========================\n",
            "Name: Carol\n",
            "Age: 20\n",
            "Symptoms: Vomiting,Coughing\n",
            "=========================\n",
            "Name: Mike\n",
            "Age: 25\n",
            "Symptoms: Fever,Headache,Coughing\n"
          ]
        }
      ]
    },
    {
      "cell_type": "markdown",
      "source": [
        "Task 7"
      ],
      "metadata": {
        "id": "cdTt2SzEBq0o"
      }
    },
    {
      "cell_type": "code",
      "source": [
        "class Match:\n",
        "  def __init__(self,teams):\n",
        "    print(\"5..4..3..2..1.. Play !!!\")\n",
        "    self.teams=teams\n",
        "    self.list1=self.teams.split('-')\n",
        "    self.batting_team=self.list1[0]\n",
        "    self.bowling_team=self.list1[1]\n",
        "    self.run=0\n",
        "    self.over=0\n",
        "    self.over_track=0\n",
        "    self.wicket=0\n",
        "  def add_run(self,run):\n",
        "    self.run+=run\n",
        "  def add_over(self,over):\n",
        "    self.over_track+=over\n",
        "    if self.over_track>5:\n",
        "      print('Warning! Cannot add 5 over/s (5 over match)')\n",
        "    else:\n",
        "      self.over+=over  \n",
        "  def add_wicket(self,wicket):\n",
        "    self.wicket+=wicket\n",
        "  def print_scoreboard(self):\n",
        "    return f'Batting Team: {self.batting_team}\\nBowling Team: {self.bowling_team}\\nTotal Runs: {self.run} Wickets: {self.wicket} Overs: {self.over}'\n",
        "match1 = Match(\"Rangpur Riders-Cumilla Victorians\")\n",
        "print(\"=========================\")\n",
        "match1.add_run(4)\n",
        "match1.add_run(6)\n",
        "match1.add_over(1)\n",
        "print(match1.print_scoreboard())\n",
        "print(\"=========================\")\n",
        "match1.add_over(5)\n",
        "print(\"=========================\")\n",
        "match1.add_wicket(1)\n",
        "print(match1.print_scoreboard())    "
      ],
      "metadata": {
        "colab": {
          "base_uri": "https://localhost:8080/"
        },
        "id": "717MtWPFBqV_",
        "outputId": "c7cda9ed-2946-49c3-c3a3-235c3cdc6fc1"
      },
      "execution_count": null,
      "outputs": [
        {
          "output_type": "stream",
          "name": "stdout",
          "text": [
            "5..4..3..2..1.. Play !!!\n",
            "=========================\n",
            "Batting Team: Rangpur Riders\n",
            "Bowling Team: Cumilla Victorians\n",
            "Total Runs: 10 Wickets: 0 Overs: 1\n",
            "=========================\n",
            "Warning! Cannot add 5 over/s (5 over match)\n",
            "=========================\n",
            "Batting Team: Rangpur Riders\n",
            "Bowling Team: Cumilla Victorians\n",
            "Total Runs: 10 Wickets: 1 Overs: 1\n"
          ]
        }
      ]
    },
    {
      "cell_type": "markdown",
      "source": [
        "Task 8"
      ],
      "metadata": {
        "id": "kcXWAXLi3xfK"
      }
    },
    {
      "cell_type": "code",
      "source": [
        "class ParcelKoro:\n",
        "  def __init__(self,name=\"No name set\",weight=0):\n",
        "    self.name=name\n",
        "    self.product_weight=weight\n",
        "  def calculateFee(self,location=None):\n",
        "    self.location=location\n",
        "    self.total_cost=0\n",
        "    if self.product_weight!=0:\n",
        "      if self.location is None:\n",
        "        self.total_cost=self.product_weight*20+50\n",
        "      else:\n",
        "        self.total_cost=self.product_weight*20+100\n",
        "    else:\n",
        "      return 0 \n",
        "  def printDetails(self):\n",
        "    print(f'Customer Name:{self.name}\\nProduct Weight: {self.product_weight}\\nTotal Fee: {self.total_cost}')  \n",
        "print(\"**********************\")\n",
        "p1 = ParcelKoro()\n",
        "p1.calculateFee()\n",
        "p1.printDetails()\n",
        "print(\"**********************\")\n",
        "p2 = ParcelKoro('Bob The Builder')\n",
        "p2.calculateFee()\n",
        "p2.printDetails()\n",
        "print(\"----------------------------\")\n",
        "p2.product_weight = 15\n",
        "p2.calculateFee()\n",
        "p2.printDetails()\n",
        "print(\"**********************\")\n",
        "p3 = ParcelKoro('Dora The Explorer', 10)\n",
        "p3.calculateFee('Dhanmondi')\n",
        "p3.printDetails()    "
      ],
      "metadata": {
        "colab": {
          "base_uri": "https://localhost:8080/"
        },
        "id": "XhxYCpQC-unR",
        "outputId": "746c3964-e397-4d7a-a615-6bd3ad524535"
      },
      "execution_count": null,
      "outputs": [
        {
          "output_type": "stream",
          "name": "stdout",
          "text": [
            "**********************\n",
            "Customer Name:No name set\n",
            "Product Weight: 0\n",
            "Total Fee: 0\n",
            "**********************\n",
            "Customer Name:Bob The Builder\n",
            "Product Weight: 0\n",
            "Total Fee: 0\n",
            "----------------------------\n",
            "Customer Name:Bob The Builder\n",
            "Product Weight: 15\n",
            "Total Fee: 350\n",
            "**********************\n",
            "Customer Name:Dora The Explorer\n",
            "Product Weight: 10\n",
            "Total Fee: 300\n"
          ]
        }
      ]
    },
    {
      "cell_type": "markdown",
      "source": [
        "Task 9"
      ],
      "metadata": {
        "id": "mvVPdPDIHHdY"
      }
    },
    {
      "cell_type": "code",
      "source": [
        "class Batsman:\n",
        "  def __init__(self,*info):\n",
        "    self.info=info\n",
        "    if len(self.info)==3:\n",
        "      self.name=self.info[0]\n",
        "      self.runs=int(self.info[1])\n",
        "      self.balls_faced=int(self.info[2])\n",
        "    else:\n",
        "      self.name=\"New Batsman\"\n",
        "      self.runs=int(self.info[0])\n",
        "      self.balls_faced=int(self.info[1])\n",
        "  def printCareerStatistics(self):\n",
        "    print(f'Name: {self.name}\\nRuns Scored: {self.runs} , Balls Faced: {self.balls_faced}')\n",
        "  def battingStrikeRate(self):\n",
        "    return (self.runs/self.balls_faced)*100\n",
        "  def setName(self,name):\n",
        "    self.name=name  \n",
        "b1 = Batsman(6101, 7380)\n",
        "b1.printCareerStatistics()\n",
        "print(\"============================\")\n",
        "b2 = Batsman(\"Liton Das\", 678, 773)\n",
        "b2.printCareerStatistics()\n",
        "print(\"----------------------------\")\n",
        "print(b2.battingStrikeRate())\n",
        "print(\"============================\")\n",
        "b1.setName(\"Shakib Al Hasan\")\n",
        "b1.printCareerStatistics()\n",
        "print(\"----------------------------\")\n",
        "print(b1.battingStrikeRate())    "
      ],
      "metadata": {
        "id": "WyOpg9Q0HJBN",
        "colab": {
          "base_uri": "https://localhost:8080/"
        },
        "outputId": "113aac89-cdc4-4356-d00d-0ffdee9d352e"
      },
      "execution_count": null,
      "outputs": [
        {
          "output_type": "stream",
          "name": "stdout",
          "text": [
            "Name: New Batsman\n",
            "Runs Scored: 6101 , Balls Faced: 7380\n",
            "============================\n",
            "Name: Liton Das\n",
            "Runs Scored: 678 , Balls Faced: 773\n",
            "----------------------------\n",
            "87.71021992238033\n",
            "============================\n",
            "Name: Shakib Al Hasan\n",
            "Runs Scored: 6101 , Balls Faced: 7380\n",
            "----------------------------\n",
            "82.66937669376694\n"
          ]
        }
      ]
    },
    {
      "cell_type": "markdown",
      "source": [
        "Task 10"
      ],
      "metadata": {
        "id": "kO2-cqVqRfn_"
      }
    },
    {
      "cell_type": "code",
      "source": [
        "class EPL_Team:\n",
        "  def __init__(self,name,song=\"No Slogan\"):\n",
        "    self.name=name\n",
        "    self.song=song\n",
        "    self.title=0\n",
        "  def increaseTitle(self):\n",
        "    self.title+=1\n",
        "  def changeSong(self,song):\n",
        "    self.song=song\n",
        "  def showClubInfo(self):\n",
        "    return f'Name: {self.name}\\nSong: {self.song}\\nTotal No of title: {self.title}'\n",
        "manu = EPL_Team('Manchester United', 'Glory Glory Man United')\n",
        "chelsea = EPL_Team('Chelsea')\n",
        "print('===================')\n",
        "print(manu.showClubInfo())\n",
        "print('##################')\n",
        "manu.increaseTitle()\n",
        "print(manu.showClubInfo())\n",
        "print('===================')\n",
        "print(chelsea.showClubInfo())\n",
        "chelsea.changeSong('Keep the blue flag flying high')\n",
        "print(chelsea.showClubInfo())        "
      ],
      "metadata": {
        "colab": {
          "base_uri": "https://localhost:8080/"
        },
        "id": "QAmpJ7u-RfXP",
        "outputId": "e9ab774b-7abe-459c-d5ec-1647535418e9"
      },
      "execution_count": null,
      "outputs": [
        {
          "output_type": "stream",
          "name": "stdout",
          "text": [
            "===================\n",
            "Name: Manchester United\n",
            "Song: Glory Glory Man United\n",
            "Total No of title: 0\n",
            "##################\n",
            "Name: Manchester United\n",
            "Song: Glory Glory Man United\n",
            "Total No of title: 1\n",
            "===================\n",
            "Name: Chelsea\n",
            "Song: No Slogan\n",
            "Total No of title: 0\n",
            "Name: Chelsea\n",
            "Song: Keep the blue flag flying high\n",
            "Total No of title: 0\n"
          ]
        }
      ]
    },
    {
      "cell_type": "markdown",
      "source": [
        "Task 11"
      ],
      "metadata": {
        "id": "4egoFr0CUrM4"
      }
    },
    {
      "cell_type": "code",
      "source": [
        "class Author:\n",
        "  def __init__(self,name=\"Default\",*info):\n",
        "    self.name=name\n",
        "    self.books=info\n",
        "  def addBooks(self,*books):\n",
        "    self.books=books\n",
        "  def printDetails(self):\n",
        "    print(f'Author Name: {self.name}\\n--------')\n",
        "    print(\"List of books:\")\n",
        "    for i in self.books:\n",
        "      print(i)\n",
        "  def changeName(self,name):\n",
        "    self.name=name\n",
        "auth1 = Author('Humayun Ahmed')\n",
        "auth1.addBooks('Deyal', 'Megher Opor Bari')\n",
        "auth1.printDetails()\n",
        "print('===================')\n",
        "auth2 = Author()\n",
        "print(auth2.name)\n",
        "auth2.changeName('Mario Puzo')\n",
        "auth2.addBooks('The Godfather', 'Omerta', 'The Sicilian')\n",
        "print('===================')\n",
        "auth2.printDetails()\n",
        "print('===================')\n",
        "auth3 = Author('Paolo Coelho', 'The Alchemist', 'The Fifth Mountain')\n",
        "auth3.printDetails()"
      ],
      "metadata": {
        "colab": {
          "base_uri": "https://localhost:8080/"
        },
        "id": "_oLs_8JzUuYH",
        "outputId": "298625a8-3b74-44dc-b39f-9ffbcac57ca6"
      },
      "execution_count": null,
      "outputs": [
        {
          "output_type": "stream",
          "name": "stdout",
          "text": [
            "Author Name: Humayun Ahmed\n",
            "--------\n",
            "List of books:\n",
            "Deyal\n",
            "Megher Opor Bari\n",
            "===================\n",
            "Default\n",
            "===================\n",
            "Author Name: Mario Puzo\n",
            "--------\n",
            "List of books:\n",
            "The Godfather\n",
            "Omerta\n",
            "The Sicilian\n",
            "===================\n",
            "Author Name: Paolo Coelho\n",
            "--------\n",
            "List of books:\n",
            "The Alchemist\n",
            "The Fifth Mountain\n"
          ]
        }
      ]
    },
    {
      "cell_type": "markdown",
      "source": [
        "Task 12"
      ],
      "metadata": {
        "id": "xQDU_8k1r5Hf"
      }
    },
    {
      "cell_type": "code",
      "source": [
        "class TaxiLagbe:\n",
        "  def __init__(self,number,area):\n",
        "    self.number=number\n",
        "    self.area=area\n",
        "    self.customer_list=[]\n",
        "    self.cost_list=[]\n",
        "    self.taxi_member_tracker=0\n",
        "  def addPassenger(self,*passenger):\n",
        "    self.passener=passenger\n",
        "    self.list1=[]\n",
        "    for i in passenger:\n",
        "      self.list1.append(i) \n",
        "    for i in self.list1:\n",
        "      self.taxi_member_tracker+=1\n",
        "      if self.taxi_member_tracker<5:\n",
        "        self.customer_list.append(i.split('_')[0])\n",
        "        self.cost_list.append(int(i.split('_')[1]))\n",
        "        print(\"Dear\",i.split('_')[0]+\"!\",\"Welcome to TaxiLagbe.\")\n",
        "      else:\n",
        "        print(\"Taxi Full! No more passengers can be added.\")  \n",
        "  def printDetails(self):\n",
        "    self.taxi_cost=0\n",
        "    print(f'Trip info for Taxi number: {self.number}\\nThis taxi can cover only {self.area} area.\\nTotal passengers: {len(self.customer_list)}')\n",
        "    print(\"Passenger list:\")\n",
        "    for j in range(len(self.customer_list)):\n",
        "      if j!=len(self.customer_list)-1:\n",
        "        print(self.customer_list[j],end=',')\n",
        "      else:\n",
        "        print(self.customer_list[j])\n",
        "    for k in self.cost_list:\n",
        "      self.taxi_cost+=k      \n",
        "    print(f'Total cost: {self.taxi_cost} Taka')      \n",
        "taxi1 = TaxiLagbe('1010-01', 'Dhaka')\n",
        "print('-------------------------------')\n",
        "taxi1.addPassenger('Walker_100', 'Wood_200')\n",
        "taxi1.addPassenger('Matt_100')\n",
        "taxi1.addPassenger('Wilson_105')\n",
        "print('-------------------------------')\n",
        "taxi1.printDetails()\n",
        "print('-------------------------------')\n",
        "taxi1.addPassenger('Karen_200')\n",
        "print('-------------------------------')\n",
        "taxi1.printDetails()\n",
        "print('-------------------------------')\n",
        "taxi2 = TaxiLagbe('1010-02', 'Khulna')\n",
        "taxi2.addPassenger('Ronald_115')\n",
        "taxi2.addPassenger('Parker_215')\n",
        "print('-------------------------------')\n",
        "taxi2.printDetails()"
      ],
      "metadata": {
        "colab": {
          "base_uri": "https://localhost:8080/"
        },
        "id": "zAfxATaQr7TA",
        "outputId": "3dd5245f-1b43-4c05-deb0-c1b5946032e5"
      },
      "execution_count": null,
      "outputs": [
        {
          "output_type": "stream",
          "name": "stdout",
          "text": [
            "-------------------------------\n",
            "Dear Walker! Welcome to TaxiLagbe.\n",
            "Dear Wood! Welcome to TaxiLagbe.\n",
            "Dear Matt! Welcome to TaxiLagbe.\n",
            "Dear Wilson! Welcome to TaxiLagbe.\n",
            "-------------------------------\n",
            "Trip info for Taxi number: 1010-01\n",
            "This taxi can cover only Dhaka area.\n",
            "Total passengers: 4\n",
            "Passenger list:\n",
            "Walker,Wood,Matt,Wilson\n",
            "Total cost: 505 Taka\n",
            "-------------------------------\n",
            "Taxi Full! No more passengers can be added.\n",
            "-------------------------------\n",
            "Trip info for Taxi number: 1010-01\n",
            "This taxi can cover only Dhaka area.\n",
            "Total passengers: 4\n",
            "Passenger list:\n",
            "Walker,Wood,Matt,Wilson\n",
            "Total cost: 505 Taka\n",
            "-------------------------------\n",
            "Dear Ronald! Welcome to TaxiLagbe.\n",
            "Dear Parker! Welcome to TaxiLagbe.\n",
            "-------------------------------\n",
            "Trip info for Taxi number: 1010-02\n",
            "This taxi can cover only Khulna area.\n",
            "Total passengers: 2\n",
            "Passenger list:\n",
            "Ronald,Parker\n",
            "Total cost: 330 Taka\n"
          ]
        }
      ]
    },
    {
      "cell_type": "markdown",
      "source": [
        "Task 13(CONFUSION)"
      ],
      "metadata": {
        "id": "_rdgmjeS1H3f"
      }
    },
    {
      "cell_type": "code",
      "source": [
        "class Account:\n",
        "  def __init__(self,name=\"Default Account\",balance=0):\n",
        "    self.name=name\n",
        "    self.balance=balance\n",
        "  def details(self):\n",
        "    return f'{self.name}\\n{self.balance}'\n",
        "  def withdraw(self,money):\n",
        "    self.money=money\n",
        "    new_balance=self.balance-self.money\n",
        "    if new_balance<=3070:\n",
        "      print(\"Sorry, Withdraw unsuccessful! The account balance after deducting withdraw amount is equal to or less than minimum.\") \n",
        "    else:\n",
        "      self.balance-=self.money\n",
        "      print(f'Withdraw successful! New balance is: {self.balance}')\n",
        "a1 = Account()\n",
        "print(a1.details())\n",
        "print(\"------------------------\")\n",
        "a1.name = \"Oliver\"\n",
        "a1.balance = 10000.0\n",
        "print(a1.details())\n",
        "print(\"------------------------\")\n",
        "a2 = Account(\"Liam\")\n",
        "print(a2.details())\n",
        "print(\"------------------------\")\n",
        "a3 = Account(\"Noah\",400)\n",
        "print(a3.details())\n",
        "print(\"------------------------\")\n",
        "a1.withdraw(6930)\n",
        "print(\"------------------------\")\n",
        "a2.withdraw(600)\n",
        "print(\"------------------------\")\n",
        "a1.withdraw(6929)         \n"
      ],
      "metadata": {
        "colab": {
          "base_uri": "https://localhost:8080/"
        },
        "id": "ipVSEkm41LdK",
        "outputId": "d5df1c38-4ef3-494d-a904-b2ebffdf7acd"
      },
      "execution_count": 8,
      "outputs": [
        {
          "output_type": "stream",
          "name": "stdout",
          "text": [
            "Default Account\n",
            "0\n",
            "------------------------\n",
            "Oliver\n",
            "10000.0\n",
            "------------------------\n",
            "Liam\n",
            "0\n",
            "------------------------\n",
            "Noah\n",
            "400\n",
            "------------------------\n",
            "Sorry, Withdraw unsuccessful! The account balance after deducting withdraw amount is equal to or less than minimum.\n",
            "------------------------\n",
            "Sorry, Withdraw unsuccessful! The account balance after deducting withdraw amount is equal to or less than minimum.\n",
            "------------------------\n",
            "Withdraw successful! New balance is: 3071.0\n"
          ]
        }
      ]
    },
    {
      "cell_type": "markdown",
      "source": [
        "Task 14"
      ],
      "metadata": {
        "id": "Qp-O7cSk39Rq"
      }
    },
    {
      "cell_type": "code",
      "source": [
        "class StudentDatabase:\n",
        "  def __init__(self,name,id):\n",
        "    self.name=name\n",
        "    self.id=id\n",
        "    self.grades={}\n",
        "    self.semester_list=[]\n",
        "  def calculateGPA(self,info,semester):\n",
        "    self.info=info\n",
        "    self.semester=semester\n",
        "    self.course_list=[]\n",
        "    self.cgpa_list=[]\n",
        "    self.dict1={}\n",
        "    self.calculated_cgpa=0\n",
        "    self.semester_list.append(self.semester)\n",
        "    for i in self.info:\n",
        "      self.course_list.append(i.split(\": \")[0])\n",
        "      self.cgpa_list.append(i.split(\": \")[1])\n",
        "    for j in self.cgpa_list:\n",
        "      self.calculated_cgpa+=float(j)\n",
        "    self.calculated_cgpa=round((self.calculated_cgpa*3)/len(self.course_list*3),2)\n",
        "    self.dict1[tuple(self.course_list)]=self.calculated_cgpa\n",
        "    self.grades[self.semester]=self.dict1\n",
        "  def printDetails(self):\n",
        "    print(f'Name: {self.name}\\nID:{self.id}')\n",
        "    for p in self.semester_list:\n",
        "      print(f'Courses taken in {p}:')\n",
        "      for j in self.grades[p]:\n",
        "        for s in j:\n",
        "          print(s)\n",
        "        print(f'GPA: {self.grades[p][j]}')      \n",
        "s1 = StudentDatabase('Pietro', '10101222')\n",
        "s1.calculateGPA(['CSE230: 4.0', 'CSE220: 4.0', 'MAT110: 4.0'],\n",
        "'Summer2020')\n",
        "s1.calculateGPA(['CSE250: 3.7', 'CSE330: 4.0'], 'Summer2021')\n",
        "print(f'Grades for {s1.name}\\n{s1.grades}')\n",
        "print('------------------------------------------------------')\n",
        "s1.printDetails()\n",
        "s2 = StudentDatabase('Wanda', '10103332')\n",
        "s2.calculateGPA(['CSE111: 3.7', 'CSE260: 3.7', 'ENG101: 4.0'],\n",
        "'Summer2022')\n",
        "print('------------------------------------------------------')\n",
        "print(f'Grades for {s2.name}\\n{s2.grades}')\n",
        "print('------------------------------------------------------')\n",
        "s2.printDetails()     "
      ],
      "metadata": {
        "colab": {
          "base_uri": "https://localhost:8080/"
        },
        "id": "tfR2Opcv3_zC",
        "outputId": "8fa9a08e-6fcb-47a3-c85f-f3bb72fe0369"
      },
      "execution_count": 89,
      "outputs": [
        {
          "output_type": "stream",
          "name": "stdout",
          "text": [
            "Grades for Pietro\n",
            "{'Summer2020': {('CSE230', 'CSE220', 'MAT110'): 4.0}, 'Summer2021': {('CSE250', 'CSE330'): 3.85}}\n",
            "------------------------------------------------------\n",
            "Name: Pietro\n",
            "ID:10101222\n",
            "Courses taken in Summer2020:\n",
            "CSE230\n",
            "CSE220\n",
            "MAT110\n",
            "GPA: 4.0\n",
            "Courses taken in Summer2021:\n",
            "CSE250\n",
            "CSE330\n",
            "GPA: 3.85\n",
            "------------------------------------------------------\n",
            "Grades for Wanda\n",
            "{'Summer2022': {('CSE111', 'CSE260', 'ENG101'): 3.8}}\n",
            "------------------------------------------------------\n",
            "Name: Wanda\n",
            "ID:10103332\n",
            "Courses taken in Summer2022:\n",
            "CSE111\n",
            "CSE260\n",
            "ENG101\n",
            "GPA: 3.8\n"
          ]
        }
      ]
    },
    {
      "cell_type": "code",
      "source": [
        "a1=['CSE230: 4.0', 'CSE220: 4.0', 'MAT110: 4.0']\n",
        "course_list=[]\n",
        "dict1={}\n",
        "for i in a1:\n",
        "  course_list.append(i.split(': ')[0])\n",
        "print(course_list)\n",
        "dict1[tuple(a1)]=2\n",
        "print(dict1)"
      ],
      "metadata": {
        "colab": {
          "base_uri": "https://localhost:8080/"
        },
        "id": "9Ijh9zNF7GB9",
        "outputId": "ba8098c7-1786-4b02-bf4e-b6140a332945"
      },
      "execution_count": 22,
      "outputs": [
        {
          "output_type": "stream",
          "name": "stdout",
          "text": [
            "['CSE230', 'CSE220', 'MAT110']\n",
            "{('CSE230: 4.0', 'CSE220: 4.0', 'MAT110: 4.0'): 2}\n"
          ]
        }
      ]
    }
  ]
}