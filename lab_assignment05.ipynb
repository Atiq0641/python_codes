{
  "nbformat": 4,
  "nbformat_minor": 0,
  "metadata": {
    "colab": {
      "name": "lab assignment05.ipynb",
      "provenance": [],
      "collapsed_sections": [],
      "authorship_tag": "ABX9TyNYUqLXiQAbAywhIt4MPNZd",
      "include_colab_link": true
    },
    "kernelspec": {
      "name": "python3",
      "display_name": "Python 3"
    },
    "language_info": {
      "name": "python"
    }
  },
  "cells": [
    {
      "cell_type": "markdown",
      "metadata": {
        "id": "view-in-github",
        "colab_type": "text"
      },
      "source": [
        "<a href=\"https://colab.research.google.com/github/Atiq0641/python_codes/blob/main/lab_assignment05.ipynb\" target=\"_parent\"><img src=\"https://colab.research.google.com/assets/colab-badge.svg\" alt=\"Open In Colab\"/></a>"
      ]
    },
    {
      "cell_type": "markdown",
      "source": [
        "task01"
      ],
      "metadata": {
        "id": "AOsIOWSvw83c"
      }
    },
    {
      "cell_type": "code",
      "execution_count": null,
      "metadata": {
        "colab": {
          "base_uri": "https://localhost:8080/"
        },
        "id": "zDa8vSr4wjhH",
        "outputId": "19060833-c418-4e55-c084-37536baba667"
      },
      "outputs": [
        {
          "output_type": "stream",
          "name": "stdout",
          "text": [
            "400\n"
          ]
        }
      ],
      "source": [
        "a_tuple = (\"The Institute\", (\"Best Mystery & Thriller\", \"The Silent Patient\", 68821), 75717,\n",
        "[1, 2, 3, 400, 5, 6, 7], (\"Best Fiction\", \"The Testaments\", 98291))\n",
        "print(a_tuple[3][3])"
      ]
    },
    {
      "cell_type": "markdown",
      "source": [
        "task02\n"
      ],
      "metadata": {
        "id": "6Z-dzZMpxX7P"
      }
    },
    {
      "cell_type": "code",
      "source": [
        "tuple1=(-10, 20, 25, 30, 40)\n",
        "print(tuple1[2:-2])"
      ],
      "metadata": {
        "colab": {
          "base_uri": "https://localhost:8080/"
        },
        "id": "aUBlv073xbzy",
        "outputId": "278e77aa-7f83-4948-ea39-14b015f632d1"
      },
      "execution_count": null,
      "outputs": [
        {
          "output_type": "stream",
          "name": "stdout",
          "text": [
            "(25,)\n"
          ]
        }
      ]
    },
    {
      "cell_type": "markdown",
      "source": [
        "task03"
      ],
      "metadata": {
        "id": "voct7R0BxuXw"
      }
    },
    {
      "cell_type": "code",
      "source": [
        "book_info = ((\"Best Mystery & Thriller\",\"The Silent Patient\",68,821),\n",
        "(\"Best Horror\",\"The Institute\",75,717),\n",
        "(\"Best History & Biography\",\"The five\",31,783 ),\n",
        "(\"Best Fiction\",\"The Testaments\",98,291))\n",
        "print(\"Size of this tuple:\", len(book_info))\n",
        "for i in book_info:\n",
        "  print(i)\n"
      ],
      "metadata": {
        "colab": {
          "base_uri": "https://localhost:8080/"
        },
        "id": "2Pb4PsSkxxRf",
        "outputId": "3b3b9745-dec1-4e42-dcf4-b54ab50ce0a4"
      },
      "execution_count": null,
      "outputs": [
        {
          "output_type": "stream",
          "name": "stdout",
          "text": [
            "Size of this tuple: 4\n",
            "('Best Mystery & Thriller', 'The Silent Patient', 68, 821)\n",
            "('Best Horror', 'The Institute', 75, 717)\n",
            "('Best History & Biography', 'The five', 31, 783)\n",
            "('Best Fiction', 'The Testaments', 98, 291)\n"
          ]
        }
      ]
    },
    {
      "cell_type": "markdown",
      "source": [
        "Task04"
      ],
      "metadata": {
        "id": "Zbx1UA58zSym"
      }
    },
    {
      "cell_type": "code",
      "source": [
        "book_info = ((\"Best Mystery & Thriller\",\"The Silent Patient\",68821),\n",
        "(\"Best Horror\",\"The Institute\",75717),\n",
        "(\"Best History & Biography\",\"The five\",31783 ),\n",
        "(\"Best Fiction\",\"The Testaments\",98291))\n",
        "a,b,c,d=book_info\n",
        "print(a[1],\"won the\",\"'\"+a[0]+\"'\",\"cateory with\",a[2],\"votes\")\n",
        "print(b[1],\"won the\",\"'\"+b[0]+\"'\",\"cateory with\",b[2],\"votes\")\n",
        "print(c[1],\"won the\",\"'\"+c[0]+\"'\",\"cateory with\",c[2],\"votes\")\n",
        "print(d[1],\"won the\",\"'\"+d[0]+\"'\",\"cateory with\",d[2],\"votes\")"
      ],
      "metadata": {
        "colab": {
          "base_uri": "https://localhost:8080/"
        },
        "id": "gTrU7KKkzW6H",
        "outputId": "4c42eec9-19c5-4670-c0e6-2c7e12ed51f5"
      },
      "execution_count": null,
      "outputs": [
        {
          "output_type": "stream",
          "name": "stdout",
          "text": [
            "The Silent Patient won the 'Best Mystery & Thriller' cateory with 68821 votes\n",
            "The Institute won the 'Best Horror' cateory with 75717 votes\n",
            "The five won the 'Best History & Biography' cateory with 31783 votes\n",
            "The Testaments won the 'Best Fiction' cateory with 98291 votes\n"
          ]
        }
      ]
    },
    {
      "cell_type": "markdown",
      "source": [
        "Task05"
      ],
      "metadata": {
        "id": "7g_5uWeI0pLm"
      }
    },
    {
      "cell_type": "code",
      "source": [
        "tuple1=(10, 8, 5, 2, 10, 15, 10, 8, 5, 8, 8, 2)\n",
        "count=0\n",
        "user_input=int(input())\n",
        "for i in tuple1:\n",
        "  if user_input==i:\n",
        "    count=count+1\n",
        "print(user_input,\"appears\",count,\"times in the tuple\")    "
      ],
      "metadata": {
        "colab": {
          "base_uri": "https://localhost:8080/"
        },
        "id": "PLUEMXVh0i3b",
        "outputId": "c32eaa23-b451-48bf-bfd4-b83a0ce8814e"
      },
      "execution_count": null,
      "outputs": [
        {
          "output_type": "stream",
          "name": "stdout",
          "text": [
            "5\n",
            "5 appears 2 times in the tuple\n"
          ]
        }
      ]
    },
    {
      "cell_type": "markdown",
      "source": [
        "task06"
      ],
      "metadata": {
        "id": "GIHE62QG18qH"
      }
    },
    {
      "cell_type": "code",
      "source": [
        "tuple1=(10, 20, 30, 40, 50, 60)\n",
        "list1=list(tuple1)\n",
        "tuple2=tuple(list1[::-1])\n",
        "print(tuple2)"
      ],
      "metadata": {
        "colab": {
          "base_uri": "https://localhost:8080/"
        },
        "id": "wNu4zlAm16Ee",
        "outputId": "11cc3395-3af1-4e74-da14-4069068467b6"
      },
      "execution_count": null,
      "outputs": [
        {
          "output_type": "stream",
          "name": "stdout",
          "text": [
            "(60, 50, 40, 30, 20, 10)\n"
          ]
        }
      ]
    },
    {
      "cell_type": "markdown",
      "source": [
        "Task07"
      ],
      "metadata": {
        "id": "sQIHfBGz2tlj"
      }
    },
    {
      "cell_type": "code",
      "source": [
        "dict1={'Harry':15, 'Draco':8, 'Nevil':19}\n",
        "dict2={'Ginie':18, 'Luna': 14}\n",
        "dict1.update(dict2)\n",
        "print(dict1)"
      ],
      "metadata": {
        "colab": {
          "base_uri": "https://localhost:8080/"
        },
        "id": "mOdRYjUX2wh9",
        "outputId": "6a7b8197-ca26-4935-ed58-84c19a3c7c84"
      },
      "execution_count": null,
      "outputs": [
        {
          "output_type": "stream",
          "name": "stdout",
          "text": [
            "{'Harry': 15, 'Draco': 8, 'Nevil': 19, 'Ginie': 18, 'Luna': 14}\n"
          ]
        }
      ]
    },
    {
      "cell_type": "code",
      "source": [
        "dict1={'Harry':15, 'Draco':8, 'Nevil':19}\n",
        "dict2={'Ginie':18, 'Luna': 14}\n",
        "dict3={}\n",
        "for key,value in dict1.items():\n",
        "  dict3[key]=value\n",
        "for key,value in dict2.items():\n",
        "  dict3[key]=value  \n",
        "print(dict3)  \n"
      ],
      "metadata": {
        "colab": {
          "base_uri": "https://localhost:8080/"
        },
        "id": "ie4GbURJHYCy",
        "outputId": "d4f526f0-d350-4376-862c-6b068a019f03"
      },
      "execution_count": null,
      "outputs": [
        {
          "output_type": "stream",
          "name": "stdout",
          "text": [
            "{'Harry': 15, 'Draco': 8, 'Nevil': 19, 'Ginie': 18, 'Luna': 14}\n"
          ]
        }
      ]
    },
    {
      "cell_type": "markdown",
      "source": [
        "Task08"
      ],
      "metadata": {
        "id": "pTmdOQau3PID"
      }
    },
    {
      "cell_type": "code",
      "source": [
        "user_input=input()\n",
        "user_input1=user_input[1:-1].strip()\n",
        "input2=user_input1.split(\", \")\n",
        "#print(input2)\n",
        "dict1={}\n",
        "for i in input2:\n",
        "  input3=i.split(\":\")\n",
        "  #print(input3[0][1:-1])\n",
        "  dict1[input3[0][1:-1]]=int(input3[1])\n",
        "    \n",
        "print(dict1)\n",
        "sum=0\n",
        "count=0\n",
        "for key in dict1:\n",
        "  sum=sum+dict1[key]\n",
        "  count=count+1  \n",
        "print(\"Average is:\",sum//count)     "
      ],
      "metadata": {
        "colab": {
          "base_uri": "https://localhost:8080/"
        },
        "id": "PH67P62VJn7J",
        "outputId": "a74a15a1-653e-4da2-d372-45d4f608b325"
      },
      "execution_count": null,
      "outputs": [
        {
          "output_type": "stream",
          "name": "stdout",
          "text": [
            "{'Jon': 100, 'Dan':200, 'Rob':30, 'Ned':110}\n",
            "{'Jon': 100, 'Dan': 200, 'Rob': 30, 'Ned': 110}\n",
            "Average is: 110\n"
          ]
        }
      ]
    },
    {
      "cell_type": "code",
      "source": [
        "dict1={}\n",
        "n=int(input())\n",
        "for key in range(n):\n",
        "  key=input()\n",
        "  value=int(input())\n",
        "  dict1[key]=value\n",
        "print(dict1)\n",
        "count=0\n",
        "sum=0\n",
        "for value in dict1.values():\n",
        "  sum=sum+value\n",
        "  count=count+1\n",
        "print(\"Average is\",sum//count) "
      ],
      "metadata": {
        "colab": {
          "base_uri": "https://localhost:8080/"
        },
        "id": "i7Njgk9tLXR7",
        "outputId": "eeec4aa7-d415-4b14-b9a2-34086d277606"
      },
      "execution_count": null,
      "outputs": [
        {
          "output_type": "stream",
          "name": "stdout",
          "text": [
            "4\n",
            "Jon\n",
            "100\n",
            "Dan\n",
            "200\n",
            "Rob\n",
            "30\n",
            "Ned\n",
            "110\n",
            "{'Jon': 100, 'Dan': 200, 'Rob': 30, 'Ned': 110}\n",
            "Average is 110\n"
          ]
        }
      ]
    },
    {
      "cell_type": "markdown",
      "source": [
        "Task09"
      ],
      "metadata": {
        "id": "wcWZCP-65S2M"
      }
    },
    {
      "cell_type": "code",
      "source": [
        "exam_marks = {'Cierra Vega': 175, 'Alden Cantrell': 200, 'Kierra Gentry': 165, 'Pierre Cox': 190}\n",
        "dict1={}\n",
        "user_input=int(input())\n",
        "for key in exam_marks:\n",
        "  if exam_marks[key]>=user_input:\n",
        "    dict1[key]=exam_marks[key]\n",
        "print(dict1)    "
      ],
      "metadata": {
        "colab": {
          "base_uri": "https://localhost:8080/"
        },
        "id": "K3b-2zUl5VP3",
        "outputId": "d12d96b8-e657-4c1c-f5f2-e1a3d70c4fc9"
      },
      "execution_count": null,
      "outputs": [
        {
          "output_type": "stream",
          "name": "stdout",
          "text": [
            "200\n",
            "{'Alden Cantrell': 200}\n"
          ]
        }
      ]
    },
    {
      "cell_type": "code",
      "source": [
        "dict1={'sci fi': 12, 'mystery': 15, 'horror': 8, 'mythology': 10, 'young_adult': 4, 'adventure':14}\n",
        "highest=0\n",
        "for key in dict1:\n",
        "  if dict1[key]>highest:\n",
        "    highest=dict1[key]\n",
        "    key1=key\n",
        "print(\"The highest selling book genre is\",key1,\"and the number of books sold are\",highest)    "
      ],
      "metadata": {
        "colab": {
          "base_uri": "https://localhost:8080/"
        },
        "id": "KIp6fVnR86G0",
        "outputId": "97da644c-757c-4326-f37b-4f712ba415d7"
      },
      "execution_count": null,
      "outputs": [
        {
          "output_type": "stream",
          "name": "stdout",
          "text": [
            "sci fi\n",
            "mystery\n",
            "The highest selling book genre is mystery and the number of books sold are 15\n"
          ]
        }
      ]
    },
    {
      "cell_type": "markdown",
      "source": [
        "Task11"
      ],
      "metadata": {
        "id": "PcsI_yoH-iHj"
      }
    },
    {
      "cell_type": "code",
      "source": [
        "user_input=input()\n",
        "user_input1=user_input[1:-1].lower()\n",
        "dict1={}\n",
        "for key in user_input1:\n",
        "  if key!=\" \":\n",
        "    if key in dict1:\n",
        "      dict1[key]=dict1[key]+1\n",
        "    else:\n",
        "      dict1[key]=1\n",
        "print(dict1)"
      ],
      "metadata": {
        "colab": {
          "base_uri": "https://localhost:8080/"
        },
        "id": "MDADOipn-k3l",
        "outputId": "6cfe0140-a9fc-4009-dfdb-54a0c7460f32"
      },
      "execution_count": null,
      "outputs": [
        {
          "output_type": "stream",
          "name": "stdout",
          "text": [
            "\"Python programming is fun\"\n",
            "{'p': 2, 'y': 1, 't': 1, 'h': 1, 'o': 2, 'n': 3, 'r': 2, 'g': 2, 'a': 1, 'm': 2, 'i': 2, 's': 1, 'f': 1, 'u': 1}\n"
          ]
        }
      ]
    },
    {
      "cell_type": "markdown",
      "source": [
        "Task12"
      ],
      "metadata": {
        "id": "tkFfl70QAeKK"
      }
    },
    {
      "cell_type": "code",
      "source": [
        "dict_1 = {'A': [1, 2, 3], 'b': ['1', '2'], \"c\": [4, 5, 6, 7]}\n",
        "count=0\n",
        "for key in dict_1:\n",
        "  for i in dict_1[key]:\n",
        "    count=count+1\n",
        "print(count)"
      ],
      "metadata": {
        "colab": {
          "base_uri": "https://localhost:8080/"
        },
        "id": "6qIb-SB2Ah3c",
        "outputId": "5cf77476-0663-4a47-e269-9ddf5bd0d391"
      },
      "execution_count": null,
      "outputs": [
        {
          "output_type": "stream",
          "name": "stdout",
          "text": [
            "9\n"
          ]
        }
      ]
    },
    {
      "cell_type": "markdown",
      "source": [
        "Task13"
      ],
      "metadata": {
        "id": "QZHeZz35B6sy"
      }
    },
    {
      "cell_type": "code",
      "source": [
        "list1 = [(\"a\", 1), (\"b\", 2), (\"a\", 3), (\"b\", 1), (\"a\", 2), (\"c\", 1)]\n",
        "dict1={}\n",
        "for i in list1:\n",
        "  a,b=i\n",
        "  if a not in dict1:\n",
        "    dict1[a]=[b]\n",
        "  else:\n",
        "    dict1[a]=dict1[a]+[b]\n",
        "print(dict1)"
      ],
      "metadata": {
        "colab": {
          "base_uri": "https://localhost:8080/"
        },
        "id": "oNxtFhv_Bq5C",
        "outputId": "d95a0cbb-623e-4533-9b6e-0ccdf0061310"
      },
      "execution_count": null,
      "outputs": [
        {
          "output_type": "stream",
          "name": "stdout",
          "text": [
            "{'a': [1, 3, 2], 'b': [2, 1], 'c': [1]}\n"
          ]
        }
      ]
    }
  ]
}