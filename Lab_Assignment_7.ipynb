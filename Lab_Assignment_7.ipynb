{
  "nbformat": 4,
  "nbformat_minor": 0,
  "metadata": {
    "colab": {
      "name": "Lab Assignment 7",
      "provenance": [],
      "collapsed_sections": [],
      "authorship_tag": "ABX9TyPqiGtKpAtwbttbz2bYb0QM",
      "include_colab_link": true
    },
    "kernelspec": {
      "name": "python3",
      "display_name": "Python 3"
    },
    "language_info": {
      "name": "python"
    }
  },
  "cells": [
    {
      "cell_type": "markdown",
      "metadata": {
        "id": "view-in-github",
        "colab_type": "text"
      },
      "source": [
        "<a href=\"https://colab.research.google.com/github/Atiq0641/python_codes/blob/main/Lab_Assignment_7.ipynb\" target=\"_parent\"><img src=\"https://colab.research.google.com/assets/colab-badge.svg\" alt=\"Open In Colab\"/></a>"
      ]
    },
    {
      "cell_type": "markdown",
      "source": [
        "# Task 1\n",
        "\n",
        "Suppose you have a list named **my_list** as given below.\n",
        "\n",
        "**my_list** = [10, 1, 20, 3, 6, 2, 5, 11, 15, 2, 12, 14, 17, 18, 29]\n",
        "\n",
        "Now use bubble sort to sort **my_list** into **ascending order**.\n",
        "\n",
        "===============================================================\n",
        "\n",
        "**Output:**\n",
        "[1, 2, 2, 3, 5, 6, 10, 11, 12, 14, 15, 17, 18, 20, 29]\n"
      ],
      "metadata": {
        "id": "80NVCdKJTNju"
      }
    },
    {
      "cell_type": "code",
      "execution_count": null,
      "metadata": {
        "colab": {
          "base_uri": "https://localhost:8080/"
        },
        "id": "x-wXGRYtTKmU",
        "outputId": "38d4fd9c-0f08-453e-e3a3-cb906d74ede9"
      },
      "outputs": [
        {
          "output_type": "stream",
          "name": "stdout",
          "text": [
            "[1, 2, 2, 3, 5, 6, 10, 11, 12, 14, 15, 17, 18, 20, 29]\n"
          ]
        }
      ],
      "source": [
        "my_list = [10, 1, 20, 3, 6, 2, 5, 11, 15, 2, 12, 14, 17, 18, 29]\n",
        "\n",
        "for i in range(0,len(my_list)-1):\n",
        "  for j in range(0,len(my_list)-i-1):\n",
        "    if my_list[j]>my_list[j+1]:\n",
        "      temp=my_list[j]\n",
        "      my_list[j]=my_list[j+1]\n",
        "      my_list[j+1]=temp\n",
        "print(my_list)      \n"
      ]
    },
    {
      "cell_type": "markdown",
      "source": [
        "# Task 2\n",
        "\n",
        "Suppose you have a list named **my_list** as given below\n",
        "\n",
        "**my_list**= [10, 1, 20, 3, 6, 2, 5, 11, 15, 2, 12, 14, 17, 18, 29]\n",
        "\n",
        "Now use selection sort to sort **my_list** into ascending order.\n",
        "\n",
        "===============================================================\n",
        "\n",
        "\n",
        "**Output:**\n",
        "[1, 2, 2, 3, 5, 6, 10, 11, 12, 14, 15, 17, 18, 20, 29]"
      ],
      "metadata": {
        "id": "scm8ypgtTaIy"
      }
    },
    {
      "cell_type": "code",
      "source": [
        "my_list= [10, 1, 20, 3, 6, 2, 5, 11, 15, 2, 12, 14, 17, 18, 29]\n",
        "for i in range(len(my_list)):\n",
        "  min=my_list[i]\n",
        "  min_ind=i\n",
        "  for j in range(i+1, len(my_list)):\n",
        "    if my_list[j]<min:\n",
        "      min=my_list[j]\n",
        "      min_ind=j\n",
        "  temp=my_list[min_ind]\n",
        "  my_list[min_ind]=my_list[i]\n",
        "  my_list[i]=temp\n",
        "print(my_list)  "
      ],
      "metadata": {
        "colab": {
          "base_uri": "https://localhost:8080/"
        },
        "id": "99KrOxPGToCA",
        "outputId": "3f07130c-ae8c-4a19-d1a8-1f487b7e6a7b"
      },
      "execution_count": null,
      "outputs": [
        {
          "output_type": "stream",
          "name": "stdout",
          "text": [
            "[1, 2, 2, 3, 5, 6, 10, 11, 12, 14, 15, 17, 18, 20, 29]\n"
          ]
        }
      ]
    },
    {
      "cell_type": "markdown",
      "source": [
        "# Task 3\n",
        "\n",
        "Suppose you have a list named **my_list** as given below.\n",
        "\n",
        "**my_list** = [10, 1, 20, 3, 6, 2, 5, 11, 15, 2, 12, 14, 17, 18, 29]\n",
        "\n",
        "Now use any of the two sorting techniques you have used above to sort the list in descending order.\n",
        "\n",
        "===============================================================\n",
        "\n",
        "**Output:**\n",
        "[29, 20, 18, 17, 15, 14, 12, 11, 10, 6, 5, 3, 2, 2, 1]"
      ],
      "metadata": {
        "id": "qvgf4AaYToec"
      }
    },
    {
      "cell_type": "code",
      "source": [
        "my_list = [10, 1, 20, 3, 6, 2, 5, 11, 15, 2, 12, 14, 17, 18, 29]\n",
        "\n",
        "for i in range(0,len(my_list)-1):\n",
        "  for j in range(0,len(my_list)-i-1):\n",
        "    if my_list[j]<my_list[j+1]:\n",
        "      temp=my_list[j]\n",
        "      my_list[j]=my_list[j+1]\n",
        "      my_list[j+1]=temp\n",
        "print(my_list)      "
      ],
      "metadata": {
        "colab": {
          "base_uri": "https://localhost:8080/"
        },
        "id": "Ever1drUTtr0",
        "outputId": "74d8b6e8-1b0b-4cf3-d0ae-cf278a6064e4"
      },
      "execution_count": null,
      "outputs": [
        {
          "output_type": "stream",
          "name": "stdout",
          "text": [
            "[29, 20, 18, 17, 15, 14, 12, 11, 10, 6, 5, 3, 2, 2, 1]\n"
          ]
        }
      ]
    },
    {
      "cell_type": "markdown",
      "source": [
        "# Task 4\n",
        "\n",
        "Suppose you have a sitting arrangement of the students who will give the final exam in a list. The list contains the last two digits of their student ID as given below.\n",
        "\n",
        "**sitting_list** = [10,30,20,70,11,15,22,16,58,100,12,56,70,80]\n",
        "\n",
        "Now you want to organize the sitting arrangement of the students in your own way. You decide to sort all the students in the even indices of the list in ascending order and all the students in the odd indices of the list in descending order.\n",
        "So, write a python program that organizes the list for you in this way.\n",
        "\n",
        "===============================================================\n",
        "\n",
        "**Output:**\n",
        "[10, 100, 11, 80, 12, 70, 20, 56, 22, 30, 58, 16, 70, 15]\n"
      ],
      "metadata": {
        "id": "gsoRc3tXUbM9"
      }
    },
    {
      "cell_type": "code",
      "source": [
        "sitting_list = [10,30,20,70,11,15,22,16,58,100,12,56,70,80]\n",
        "even=[]\n",
        "odd=[]\n",
        "new_list=[]\n",
        "for i in range (0,len(sitting_list)):\n",
        "  if i%2==0:\n",
        "    even.append(sitting_list[i])       \n",
        "  else:\n",
        "    odd.append(sitting_list[i])\n",
        "def assending_sort(x):\n",
        "  for i in range(0,len(x)-1):\n",
        "    for j in range(0,len(x)-i-1):\n",
        "      if x[j]>x[j+1]:\n",
        "        temp=x[j]\n",
        "        x[j]=x[j+1]\n",
        "        x[j+1]=temp\n",
        "  return x\n",
        "def descending_order(a):\n",
        "  for i in range(0,len(a)-1):\n",
        "    for j in range(0,len(a)-i-1):\n",
        "      if a[j]<a[j+1]:\n",
        "        temp=a[j]\n",
        "        a[j]=a[j+1]\n",
        "        a[j+1]=temp\n",
        "  return a  \n",
        "new_even=assending_sort(even)\n",
        "new_odd=descending_order(odd)\n",
        "for i in range(0,len(new_even)):\n",
        "  new_list.append(new_even[i])\n",
        "  new_list.append(new_odd[i])\n",
        "print(new_list)   "
      ],
      "metadata": {
        "colab": {
          "base_uri": "https://localhost:8080/"
        },
        "id": "2qV2PdjSUo5Q",
        "outputId": "7e7eaf8c-31cb-4130-b477-5562d0daceb9"
      },
      "execution_count": null,
      "outputs": [
        {
          "output_type": "stream",
          "name": "stdout",
          "text": [
            "[10, 100, 11, 80, 12, 70, 20, 56, 22, 30, 58, 16, 70, 15]\n"
          ]
        }
      ]
    },
    {
      "cell_type": "markdown",
      "source": [
        "# Task 5\n",
        "\n",
        "Suppose a list contains marks earned in the courses CSE110, PHY111, and MAT110 of each student consecutively in a nested list form. Your task is to take a course name as input from the user and sort the list based on the marks obtained in that course to finally print the names of the students in descending order of marks obtained i.e. from the student who earned the highest marks to the student who earned the lowest.\n",
        "For example, the list may look like\n",
        "\n",
        "**lst** = [ [\"Alan\", 95, 87, 91], [\"Turing\", 92, 90, 83], [\"Elon\", 87, 92, 80], [\"Musk\", 85, 94, 90] ]\n",
        "\n",
        "where for each nested list, 1st index holds the name of the student, 2nd index is total marks earned in the CSE110 course, 3rd index is PHY111 marks and 4th index is MAT110 marks.\n",
        "\n",
        "===============================================================\n",
        "\n",
        "Hint:\n",
        "You may create a function for sorting, then call it whenever needed instead of rewriting the code.\n",
        "You may get the data in the individual lists from the given nested list.\n",
        "\n",
        "===============================================================\n",
        "\n",
        "**Sample Input 1**\n",
        "\n",
        "MAT110\n",
        "\n",
        "\n",
        "**Sample Output 1**\n",
        "\n",
        "Alan\n",
        "\n",
        "Musk\n",
        "\n",
        "Turing\n",
        "\n",
        "Elon\n",
        "\n",
        "**Explanation:**\n",
        "Here the user gives us \"MAT110\" as the course name. Now, the students Alan, Turing, Elon, and Musk earned 91, 83, 80, and 90 marks respectively in this course. If we sort it, Alan got the highest marks of 91 followed by Musk with 90 marks and Turing with 83 marks. Among these 4 students, Elon obtained the lowest marks in the MAT110 course with 80 marks. All of these have been illustrated in our sample output.\n",
        "\n",
        "===============================================================\n",
        "\n",
        "**Sample Input 2**\n",
        "\n",
        "PHY111\n",
        "\n",
        "**Sample Output 2**\n",
        "\n",
        "Musk\n",
        "\n",
        "Elon\n",
        "\n",
        "Turing\n",
        "\n",
        "Alan\n"
      ],
      "metadata": {
        "id": "7yKThhaMUpaU"
      }
    },
    {
      "cell_type": "code",
      "source": [
        "input1=input()\n",
        "lst = [ [\"Alan\", 95, 87, 91], [\"Turing\", 92, 90, 83], [\"Elon\", 87, 92, 80], [\"Musk\", 85, 94, 90] ]\n",
        "list1=[]\n",
        "name=[]\n",
        "if input1==\"CSE110\" or input1==\"cse110\":\n",
        "  ind=1\n",
        "if input1==\"PHY111\" or input1==\"phy111\":\n",
        "  ind=2\n",
        "if input1==\"MAT110\" or input1==\"mat110\":\n",
        "  ind=3\n",
        "for i in lst:\n",
        "  list1.append(i[ind])\n",
        "  name.append(i[0])\n",
        "for i in range(0,len(list1)-1):\n",
        "  for j in range(0,len(list1)-i-1):\n",
        "    if list1[j]<list1[j+1]:\n",
        "      temp1=list1[j]\n",
        "      list1[j]=list1[j+1]\n",
        "      list1[j+1]=temp1\n",
        "      temp2=name[j]\n",
        "      name[j]=name[j+1]\n",
        "      name[j+1]=temp2\n",
        "print(list1)\n",
        "print(name)      \n",
        "\n",
        "for g in name:\n",
        "  print(g)     "
      ],
      "metadata": {
        "colab": {
          "base_uri": "https://localhost:8080/"
        },
        "id": "2iCF57UIVbIs",
        "outputId": "b061dffe-d0b3-4cd1-dfa7-1a23f974d8a5"
      },
      "execution_count": 20,
      "outputs": [
        {
          "output_type": "stream",
          "name": "stdout",
          "text": [
            "phy111\n",
            "[94, 92, 90, 87]\n",
            "['Musk', 'Elon', 'Turing', 'Alan']\n",
            "Musk\n",
            "Elon\n",
            "Turing\n",
            "Alan\n"
          ]
        }
      ]
    },
    {
      "cell_type": "markdown",
      "source": [
        "# Task 6\n",
        "\n",
        "Suppose you have a list named **my_list** as given below. Your task is to sort the list in ascending order and print the count of numbers that have changed their positions in the process of sorting.\n",
        "\n",
        "**my_list** = [4, 2, 3, 1, 6, 5]\n",
        "\n",
        "The sorted list would be [1, 2, 3, 4, 5, 6] where 4 numbers (4, 1, 6, and 5) have changed their positions. Therefore our sample output here would be 4. Please check if your code is working correctly by changing the above list and using the knowledge given here to verify whether your code gives the correct output for all different lists.\n",
        "\n",
        "**Sample Output for the above list**\n",
        "\n",
        "4\n"
      ],
      "metadata": {
        "id": "cE1gvZL4Vc6c"
      }
    },
    {
      "cell_type": "code",
      "source": [
        "my_list = [4, 2, 3, 1, 6, 5]\n",
        "my_list1=my_list.copy()\n",
        "for i in range(len(my_list)):\n",
        "  min=my_list[i]\n",
        "  min_ind=i\n",
        "  for j in range(i+1, len(my_list)):\n",
        "    if my_list[j]<min:\n",
        "      min=my_list[j]\n",
        "      min_ind=j\n",
        "  temp=my_list[min_ind]\n",
        "  my_list[min_ind]=my_list[i]\n",
        "  my_list[i]=temp\n",
        "count=0 \n",
        "for g in range(len(my_list)):\n",
        "  if my_list[g]!=my_list1[g]:\n",
        "    count=count+1\n",
        "print(count)"
      ],
      "metadata": {
        "colab": {
          "base_uri": "https://localhost:8080/"
        },
        "id": "9DDkt-DAVoMV",
        "outputId": "c3540819-5455-4499-a370-b1d87e851740"
      },
      "execution_count": 36,
      "outputs": [
        {
          "output_type": "stream",
          "name": "stdout",
          "text": [
            "4\n"
          ]
        }
      ]
    },
    {
      "cell_type": "markdown",
      "source": [
        "# Task 7\n",
        "\n",
        "Write a python program that takes two lists from the user, merges the two lists, sorts the resulting list, and then finds the median of the elements in the two lists.\n",
        "\n",
        "=====================================================\n",
        "\n",
        "**Sample Input 1**\n",
        "\n",
        "list_one = [1, 2, 1, 4]\n",
        "\n",
        "list_two = [5, 4, 1]\n",
        "\n",
        "**Sample Output 1**\n",
        "\n",
        "Sorted list = [1, 1, 1, 2, 4, 4, 5]\n",
        "\n",
        "Median = 2\n",
        "\n",
        "=====================================================\n",
        "\n",
        "**Sample Input 2**\n",
        "\n",
        "\n",
        "list_one = [1, 7, 9, 10]\n",
        "\n",
        "list_two = [2, 7, 6, 5]\n",
        "\n",
        "Sample Output 2\n",
        "\n",
        "Sorted list = [1, 2, 5, 6, 7, 7, 9, 10]\n",
        "\n",
        "Median = 6.5\n"
      ],
      "metadata": {
        "id": "Ka0NpT0oVpyD"
      }
    },
    {
      "cell_type": "code",
      "source": [
        "def list_input(k):\n",
        "\n",
        "  list1=k[1:-1]\n",
        "  list2=list1.split(\", \")\n",
        "  list3=[]\n",
        "  for i in list2:\n",
        "    list3.append(int(i))\n",
        "  return list3\n",
        "list1=input(\"list_one: \")\n",
        "list2=input(\"list_two: \") \n",
        "new1= list_input(list1)\n",
        "new2= list_input(list2)\n",
        "new_list=new1+new2\n",
        "def assending_sort(x):\n",
        "  for i in range(0,len(x)-1):\n",
        "    for j in range(0,len(x)-i-1):\n",
        "      if x[j]>x[j+1]:\n",
        "        temp=x[j]\n",
        "        x[j]=x[j+1]\n",
        "        x[j+1]=temp\n",
        "  return x    \n",
        "new3=assending_sort(new_list)\n",
        "sum=0\n",
        "length=len(new3)-1\n",
        "i=0\n",
        "while i<(length):\n",
        "  if len(new3)%2==0:\n",
        "    sum= ((new3[length//2])+new3[length//2+1])/2\n",
        "  else:\n",
        "    sum=new3[(length)//2]  \n",
        "  i=i+1\n",
        "print(\"Median: \",sum)  "
      ],
      "metadata": {
        "colab": {
          "base_uri": "https://localhost:8080/"
        },
        "id": "89D7SgFtWDee",
        "outputId": "cd2a1868-46d5-4419-b257-8d34ad1b68b5"
      },
      "execution_count": null,
      "outputs": [
        {
          "output_type": "stream",
          "name": "stdout",
          "text": [
            "list_one: [1, 7, 9, 10]\n",
            "list_two: [2, 7, 6, 5]\n",
            "Median:  6.5\n"
          ]
        }
      ]
    },
    {
      "cell_type": "markdown",
      "source": [
        "# Task 8\n",
        "\n",
        "Write a python program that takes a list from a user containing both positive and negative numbers. The program then finds two pairs of values whose summation is closest to zero.\n",
        "\n",
        "=====================================================\n",
        "\n",
        "**Sample Input 1**\n",
        "\n",
        "list_one = [-10, 15, 2, 4, -4, 7, -8]\n",
        "\n",
        "**Sample Output 1**\n",
        "\n",
        "Two pairs which have the smallest sum = 4 and -4\n",
        "\n",
        "=====================================================\n",
        "\n",
        "**Sample Input 2**\n",
        "\n",
        "list_one = [1, -8, 4, -7, -20, 26, 70, -85]\n",
        "\n",
        "**Sample Output 2**\n",
        "\n",
        "Two pairs which have the smallest sum = 4 and -7\n"
      ],
      "metadata": {
        "id": "P9LvgXFFWDzb"
      }
    },
    {
      "cell_type": "code",
      "source": [
        "def list_input(k):\n",
        "\n",
        "  list1=k[1:-1]\n",
        "  list2=list1.split(\", \")\n",
        "  list3=[]\n",
        "  for i in list2:\n",
        "    list3.append(int(i))\n",
        "  return list3\n",
        "q=input()\n",
        "new1=list_input(q)\n",
        "sum=0\n",
        "first=0\n",
        "second=1\n",
        "min_sum=first+second\n",
        "for i in range(0,len(new1)-1):\n",
        "  for j in range(i+1,len(new1)):\n",
        "    sum=new1[i]+new1[j]\n",
        "    if abs(sum)<abs(min_sum):\n",
        "      min_sum=sum\n",
        "      first=new1[i]\n",
        "      second=new1[j]\n",
        "print(\"Two pairs which have the smallest sum =\",first,\"and\",second)      "
      ],
      "metadata": {
        "colab": {
          "base_uri": "https://localhost:8080/"
        },
        "id": "AOx3QRESWgzU",
        "outputId": "3dd45a9a-d4b7-404a-ed63-56ffaa3a570c"
      },
      "execution_count": null,
      "outputs": [
        {
          "output_type": "stream",
          "name": "stdout",
          "text": [
            "[-4, 4, 2, 15, -10, 7, -8]\n",
            "Two pairs which have the smallest sum = -4 and 4\n"
          ]
        }
      ]
    },
    {
      "cell_type": "markdown",
      "source": [
        "# Task 9\n",
        "\n",
        "You will be given a list of tuples where each tuple indicates a point i.e. (x, y) in a 2-dimensional coordinate system. \n",
        "You need to write a python program to find the minimum distance and the point that is closest to the origin i.e. (0,0)\n",
        "\n",
        "=====================================================\n",
        "\n",
        "**Hint:**\n",
        "\n",
        "The formula of distance = √((Δx)2+(Δy)2)\n",
        "As you are calculating the distance from the origin (0,0), you can simply use \n",
        "distance = √(x2+y2)\n",
        "You can create a list of distances from each point and sort that list using your personal favorite sorting algorithm.\n",
        "\n",
        "=====================================================\n",
        "\n",
        "**Sample Input 1**\n",
        "\n",
        "points = [(5,3), (2,9), (-2,7), (-3,-4), (0,6), (7,-2)]\n",
        "\n",
        "\n",
        "Sample Output 1\n",
        "\n",
        "Minimum distance = 5.0\n",
        "\n",
        "Here the closest point is (-3,-4) which has a distance of 5.0 from the origin.\n",
        "\n",
        "=====================================================\n",
        "\n",
        "**Sample Input 1**\n",
        "\n",
        "points = [(1,7), (4,5), (-1,7), (-2,0), (1,1), (5,-1)]\n",
        "\n",
        "Sample Output 1\n",
        "\n",
        "Minimum distance = 1.4142135623730951\n",
        "\n",
        "Here the closest point is (1,1) which has a distance of 1.4142135623730951 from the origin.\n"
      ],
      "metadata": {
        "id": "Ls6wk49SWjTA"
      }
    },
    {
      "cell_type": "code",
      "source": [
        "import math\n",
        "points = [(1,7), (4,5), (-1,7), (-2,0), (1,1), (5,-1)]\n",
        "list1=[]\n",
        "first=points[0][0]\n",
        "second=points[0][1]\n",
        "min_distance=math.sqrt((first**2)+(second**2))\n",
        "for i in points:\n",
        "  distance=math.sqrt((i[0]**2)+(i[1]**2))\n",
        "  if distance<min_distance:\n",
        "    min_distance=distance\n",
        "    close_point=i\n",
        "print(\"Here the closest point is\",close_point,\"which has a distance of\",min_distance,\"from the origin.\")          "
      ],
      "metadata": {
        "colab": {
          "base_uri": "https://localhost:8080/"
        },
        "id": "D4_NMfQpW8fV",
        "outputId": "c4960d6f-5de3-4b0c-c3d5-e19160bf2aa6"
      },
      "execution_count": null,
      "outputs": [
        {
          "output_type": "stream",
          "name": "stdout",
          "text": [
            "Here the closest point is (1, 1) which has a distance of 1.4142135623730951 from the origin.\n"
          ]
        }
      ]
    }
  ]
}