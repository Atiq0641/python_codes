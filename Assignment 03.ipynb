{
  "nbformat": 4,
  "nbformat_minor": 0,
  "metadata": {
    "colab": {
      "name": "21/06/2022.ipynb",
      "provenance": [],
      "authorship_tag": "ABX9TyNjW0wHSN3xJSfdsImOxGD9",
      "include_colab_link": true
    },
    "kernelspec": {
      "name": "python3",
      "display_name": "Python 3"
    },
    "language_info": {
      "name": "python"
    }
  },
  "cells": [
    {
      "cell_type": "markdown",
      "metadata": {
        "id": "view-in-github",
        "colab_type": "text"
      },
      "source": [
        "<a href=\"https://colab.research.google.com/github/Atiq0641/python_codes/blob/main/Assignment%2003.ipynb\" target=\"_parent\"><img src=\"https://colab.research.google.com/assets/colab-badge.svg\" alt=\"Open In Colab\"/></a>"
      ]
    },
    {
      "cell_type": "code",
      "source": [
        "class Student:\n",
        "  def __init__(self,name,id,depart,cgpa):\n",
        "    self.x=name\n",
        "    self.y=id\n",
        "    self.z=depart\n",
        "    self.i=cgpa\n",
        "  def print_details(self):\n",
        "    print(\"Name:\",self.x,\"ID:\",self.y)\n",
        "    print(\"Department:\",self.z)\n",
        "    print(self.calculate_CGPA())\n",
        "    if self.calculate_CGPA()>3.80:\n",
        "      print(\"Your academic standing is 'Highest Distinction'\")\n",
        "    elif 3.65<self.calculate_CGPA()<3.80:\n",
        "      print(\"Your academic standing is 'High Distinction'\")\n",
        "    elif 3.50<self.calculate_CGPA()<3.65:\n",
        "      print(\"Your academic standing is 'Distinction'\")\n",
        "    elif 2.00<self.calculate_CGPA()<3.50:\n",
        "      print(\"Your academic standing is 'Satisfactory'\")\n",
        "    elif self.calculate_CGPA()<2.00:\n",
        "      print(\"Sorry you cannot graduate\")        \n",
        "  def calculate_CGPA(self):\n",
        "    sum_cgpa=0\n",
        "    for i in self.i:\n",
        "      sum_cgpa+=float(i)\n",
        "    caculated_cgpa=round((sum_cgpa*3)/(len(self.i)*3),2)\n",
        "    return caculated_cgpa\n",
        "s1 = Student('Dora', '15995599','CSE', [4,3.7,3.7,4])\n",
        "s1.calculate_CGPA()\n",
        "print(\"==========================\")\n",
        "s1.print_details()\n",
        "print(\"==========================\")\n",
        "s2 = Student('Pingu', '12312322', 'EEE', [1.7,1.3,1.3,1.3,1])\n",
        "s2.calculate_CGPA()\n",
        "print(\"==========================\")\n",
        "s2.print_details()\n",
        "print(\"==========================\")\n",
        "s3 = Student('Bob', '13311331', 'CSE', [2,3,3,3.7,2.7,2.7])\n",
        "s3.calculate_CGPA()\n",
        "print(\"==========================\")\n",
        "s3.print_details()"
      ],
      "metadata": {
        "colab": {
          "base_uri": "https://localhost:8080/"
        },
        "id": "2Q0zJILJF_hb",
        "outputId": "b12ea5b7-9f4e-4112-e743-75d52ee2cde1"
      },
      "execution_count": null,
      "outputs": [
        {
          "output_type": "stream",
          "name": "stdout",
          "text": [
            "==========================\n",
            "Name: Dora ID: 15995599\n",
            "Department: CSE\n",
            "3.85\n",
            "Your academic standing is 'Highest Distinction'\n",
            "==========================\n",
            "==========================\n",
            "Name: Pingu ID: 12312322\n",
            "Department: EEE\n",
            "1.32\n",
            "Sorry you cannot graduate\n",
            "==========================\n",
            "==========================\n",
            "Name: Bob ID: 13311331\n",
            "Department: CSE\n",
            "2.85\n",
            "Your academic standing is 'Satisfactory'\n"
          ]
        }
      ]
    },
    {
      "cell_type": "markdown",
      "source": [
        "Task 1"
      ],
      "metadata": {
        "id": "v7B5-jfVwik0"
      }
    },
    {
      "cell_type": "code",
      "source": [
        "class Calculator:\n",
        "  def __init__(self,num1,operator,num2):\n",
        "    print(\"Let's calculate!\")\n",
        "    self.number1=num1\n",
        "    self.operator=operator\n",
        "    self.number2=num2\n",
        "    print(f'Value 1: {self.number1}')\n",
        "    print(f'Operator: {self.operator}')\n",
        "    print(f'Value 2: {self.number2}')\n",
        "    if self.operator=='+':\n",
        "      print(f'Result: {self.add()}')\n",
        "    elif self.operator=='-':\n",
        "      print(f'Result: {self.substract()}')\n",
        "    elif self.operator=='*':\n",
        "      print(f'Result: {self.multiply()}')\n",
        "    elif self.operator=='/':\n",
        "      print(f'Result: {self.divide()}')  \n",
        "  def add(self):\n",
        "    return self.number1+self.number2 \n",
        "  def substract(self):\n",
        "    return self.number1-self.number2\n",
        "  def multiply(self):\n",
        "    return self.number1*self.number2\n",
        "  def divide(self):\n",
        "    return self.number1/self.number2\n",
        "calculator1=Calculator(int(input()),str(input())\n",
        ",int(input()))                    "
      ],
      "metadata": {
        "colab": {
          "base_uri": "https://localhost:8080/"
        },
        "id": "IFG4x16drcO8",
        "outputId": "767bf43e-3dfe-46a6-e913-e98cf0a22bae"
      },
      "execution_count": null,
      "outputs": [
        {
          "output_type": "stream",
          "name": "stdout",
          "text": [
            "100\n",
            "*\n",
            "12\n",
            "Let's calculate!\n",
            "Value 1: 100\n",
            "Operator: *\n",
            "Value 2: 12\n",
            "Result: 1200\n"
          ]
        }
      ]
    },
    {
      "cell_type": "markdown",
      "source": [
        "Task 2"
      ],
      "metadata": {
        "id": "xl50YbEdwmJv"
      }
    },
    {
      "cell_type": "code",
      "source": [
        "class Course:\n",
        "  def __init__(self,course,faculty,section):\n",
        "    self.course=course\n",
        "    self.faculty=faculty\n",
        "    self.section=section\n",
        "  def detail(self):\n",
        "    print(self.course,\"-\",self.faculty,\"-\",self.section)\n",
        "c1 = Course(\"CSE110\", \"TBA\", 8)\n",
        "c1.detail()\n",
        "print(\"===============\")\n",
        "c2 = Course(\"CSE111\", \"TBA\", 9)\n",
        "c2.detail()    "
      ],
      "metadata": {
        "colab": {
          "base_uri": "https://localhost:8080/"
        },
        "id": "lTeuAB3bwn5V",
        "outputId": "2cb6a79d-ca13-4e47-e6b6-0b0f87937cda"
      },
      "execution_count": null,
      "outputs": [
        {
          "output_type": "stream",
          "name": "stdout",
          "text": [
            "CSE110 - TBA - 8\n",
            "===============\n",
            "CSE111 - TBA - 9\n"
          ]
        }
      ]
    },
    {
      "cell_type": "markdown",
      "source": [
        "Task 3"
      ],
      "metadata": {
        "id": "RADRZgaNx7K0"
      }
    },
    {
      "cell_type": "code",
      "source": [
        "class Patient:\n",
        "  def __init__(self,name,age,weight,height):\n",
        "    self.name=name\n",
        "    self.age=age\n",
        "    self.weight=weight\n",
        "    self.height=height\n",
        "  def printDetails(self):  \n",
        "    print(f'Name: {self.name}')\n",
        "    print(f'Age: {self.age}')\n",
        "    print(f'Weight: {self.weight} kg')\n",
        "    print(f'Height: {self.height} cm')\n",
        "    print(f'BMI: {self.bmi_calculation()}')\n",
        "  def bmi_calculation(self):\n",
        "    return self.weight/(self.height/100)**2  \n",
        "p1 = Patient(\"A\", 55, 63.0, 158.0)\n",
        "p1.printDetails()\n",
        "print(\"====================\")\n",
        "p2 = Patient(\"B\", 53, 61.0, 149.0)\n",
        "p2.printDetails()    "
      ],
      "metadata": {
        "colab": {
          "base_uri": "https://localhost:8080/"
        },
        "id": "s0SY-bFIx6nw",
        "outputId": "ed752b7c-db33-4591-e2a4-6ba08dab840d"
      },
      "execution_count": null,
      "outputs": [
        {
          "output_type": "stream",
          "name": "stdout",
          "text": [
            "Name: A\n",
            "Age: 55\n",
            "Weight: 63.0 kg\n",
            "Height: 158.0 cm\n",
            "BMI: 25.236340330075304\n",
            "====================\n",
            "Name: B\n",
            "Age: 53\n",
            "Weight: 61.0 kg\n",
            "Height: 149.0 cm\n",
            "BMI: 27.476239809017613\n"
          ]
        }
      ]
    },
    {
      "cell_type": "markdown",
      "source": [
        "Task 4"
      ],
      "metadata": {
        "id": "YazGm4Vnz-bk"
      }
    },
    {
      "cell_type": "code",
      "source": [
        "class Vehicle:\n",
        "  def __init__(self):\n",
        "    self.x_axis=0\n",
        "    self.y_axis=0\n",
        "  def moveUp(self):\n",
        "    self.y_axis+=1\n",
        "  def moveDown(self):\n",
        "    self.y_axis-=1\n",
        "  def moveRight(self):\n",
        "    self.x_axis+=1\n",
        "  def moveLeft(self):\n",
        "    self.x_axis-=1\n",
        "  def print_position(self):\n",
        "    print(f'({self.x_axis},{self.y_axis})') \n",
        "car = Vehicle()\n",
        "car.print_position()\n",
        "car.moveUp()\n",
        "car.print_position()\n",
        "car.moveLeft()\n",
        "car.print_position()\n",
        "car.moveDown()\n",
        "car.print_position()\n",
        "car.moveRight()     "
      ],
      "metadata": {
        "colab": {
          "base_uri": "https://localhost:8080/"
        },
        "id": "AuR2WpQk0C8P",
        "outputId": "68f3b362-ba3d-4fe0-b0dc-8297e74706b0"
      },
      "execution_count": null,
      "outputs": [
        {
          "output_type": "stream",
          "name": "stdout",
          "text": [
            "(0,0)\n",
            "(0,1)\n",
            "(-1,1)\n",
            "(-1,0)\n"
          ]
        }
      ]
    },
    {
      "cell_type": "markdown",
      "source": [
        "Task 5"
      ],
      "metadata": {
        "id": "-kQO-96O63TL"
      }
    },
    {
      "cell_type": "code",
      "source": [
        "class Shape:\n",
        "  def __init__(self,shape,size1,size2):\n",
        "    self.shape=shape\n",
        "    self.size1=size1\n",
        "    self.size2=size2\n",
        "  def area(self):\n",
        "    if self.shape=='Triangle' or self.shape=='Rhombus':\n",
        "      print(\"Area:\",1/2*self.size1*self.size2)\n",
        "    elif self.shape=='Rectangle' or self.shape=='Square':\n",
        "      print(\"Area:\",self.size1*self.size2)\n",
        "    else:\n",
        "      print (\"Area: Shape Unknown\")\n",
        "triangle = Shape(\"Triangle\",10,25)\n",
        "triangle.area()\n",
        "print(\"==========================\")\n",
        "square = Shape(\"Square\",10,10)\n",
        "square.area()\n",
        "print(\"==========================\")\n",
        "rhombus = Shape(\"Rhombus\",18,25)\n",
        "rhombus.area()\n",
        "print(\"==========================\")\n",
        "rectangle = Shape(\"Rectangle\",15,30)\n",
        "rectangle.area()\n",
        "print(\"==========================\")\n",
        "trapezium = Shape(\"Trapezium\",15,30)\n",
        "trapezium.area()          "
      ],
      "metadata": {
        "colab": {
          "base_uri": "https://localhost:8080/"
        },
        "id": "JVutbpJI62q8",
        "outputId": "3c5da26d-d792-4352-dddc-075b3561c850"
      },
      "execution_count": null,
      "outputs": [
        {
          "output_type": "stream",
          "name": "stdout",
          "text": [
            "Area: 125.0\n",
            "==========================\n",
            "Area: 100\n",
            "==========================\n",
            "Area: 225.0\n",
            "==========================\n",
            "Area: 450\n",
            "==========================\n",
            "Area: Shape Unknown\n"
          ]
        }
      ]
    },
    {
      "cell_type": "markdown",
      "source": [
        "Task 6"
      ],
      "metadata": {
        "id": "DKaOERQ2A3f-"
      }
    },
    {
      "cell_type": "code",
      "source": [
        "class Calculator:\n",
        "  print(\"Calculator is ready\")\n",
        "  def __init__(self):\n",
        "    self.value1=1\n",
        "    self.value2=2\n",
        "    self.operator='-'\n",
        "  def calculate(self,value1,value2,operator):\n",
        "    self.value1=value1\n",
        "    self.value2=value2\n",
        "    self.operator=operator \n",
        "    if self.operator==\"+\":\n",
        "      return self.value1+self.value2\n",
        "    elif self.operator==\"-\":\n",
        "      return self.value1-self.value2\n",
        "    elif self.operator==\"*\":\n",
        "      return self.value1*self.value2\n",
        "    elif self.operator==\"/\":\n",
        "      return self.value1/self.value2\n",
        "  def showCalculation(self):\n",
        "    if self.operator==\"+\":\n",
        "      print(str(self.value1)+str(self.operator)+str(self.value2)+'='+str(self.value1+self.value2))\n",
        "    elif self.operator==\"-\":\n",
        "      print(str(self.value1)+str(self.operator)+str(self.value2)+'='+str(self.value1-self.value2))\n",
        "    elif self.operator==\"*\":\n",
        "      print(str(self.value1)+str(self.operator)+str(self.value2)+'='+str(self.value1*self.value2))\n",
        "    elif self.operator==\"/\":\n",
        "      print(str(self.value1)+str(self.operator)+str(self.value2)+'='+str(self.value1/self.value2))\n",
        "c1 = Calculator()\n",
        "print(\"==================\")\n",
        "val = c1.calculate(10, 20, '+')\n",
        "print(\"Returned value:\", val)\n",
        "c1.showCalculation()\n",
        "print(\"==================\")\n",
        "val = c1.calculate(val, 10, '-')\n",
        "print(\"Returned value:\", val)\n",
        "c1.showCalculation()\n",
        "print(\"==================\")\n",
        "val = c1.calculate(val, 5, '*')\n",
        "print(\"Returned value:\", val)\n",
        "c1.showCalculation()\n",
        "print(\"==================\")\n",
        "val = c1.calculate(val, 16, '/')\n",
        "print(\"Returned value:\", val)\n",
        "c1.showCalculation()         "
      ],
      "metadata": {
        "colab": {
          "base_uri": "https://localhost:8080/"
        },
        "id": "KZBzh4yGBXLx",
        "outputId": "a296e0e5-ba41-4be9-d5d9-1fa2446dd2ff"
      },
      "execution_count": null,
      "outputs": [
        {
          "output_type": "stream",
          "name": "stdout",
          "text": [
            "Calculator is ready\n",
            "==================\n",
            "Returned value: 30\n",
            "10+20=30\n",
            "==================\n",
            "Returned value: 20\n",
            "30-10=20\n",
            "==================\n",
            "Returned value: 100\n",
            "20*5=100\n",
            "==================\n",
            "Returned value: 6.25\n",
            "100/16=6.25\n"
          ]
        }
      ]
    },
    {
      "cell_type": "markdown",
      "source": [
        "Task 8"
      ],
      "metadata": {
        "id": "FVettRv1MTgX"
      }
    },
    {
      "cell_type": "code",
      "source": [
        "class Shinobi:\n",
        "  def __init__(self,name,rank):\n",
        "    self.name=name\n",
        "    self.rank=rank\n",
        "    self.mission=0\n",
        "    self.salary=0\n",
        "  def changeRank(self,rank):\n",
        "    self.rank=rank\n",
        "    return rank  \n",
        "  def calSalary(self,mission=0):\n",
        "    self.mission=mission\n",
        "    if self.rank=='Genin':\n",
        "      self.salary=self.mission*50\n",
        "    elif self.rank=='Chunin':\n",
        "      self.salary=self.mission*100\n",
        "    else:\n",
        "      self.salary=self.mission*500   \n",
        "  def printInfo(self):\n",
        "    print(\"Name:\",self.name)\n",
        "    print(\"Rank:\",self.rank)\n",
        "    print(\"Mission:\",self.mission)\n",
        "    print(\"Salary:\",self.salary)    \n",
        "naruto = Shinobi(\"Naruto\", \"Genin\")\n",
        "naruto.calSalary(5)\n",
        "naruto.printInfo()\n",
        "print('====================')\n",
        "shikamaru = Shinobi('Shikamaru', \"Genin\")\n",
        "shikamaru.printInfo()\n",
        "shikamaru.changeRank(\"Chunin\")\n",
        "shikamaru.calSalary(10)\n",
        "shikamaru.printInfo()\n",
        "print('====================')\n",
        "neiji = Shinobi(\"Neiji\", \"Jonin\")\n",
        "neiji.calSalary(5)\n",
        "neiji.printInfo()"
      ],
      "metadata": {
        "colab": {
          "base_uri": "https://localhost:8080/"
        },
        "id": "v0vIbka8Jyun",
        "outputId": "afdaaab7-76d3-4db3-f11b-52167fd2b33f"
      },
      "execution_count": null,
      "outputs": [
        {
          "output_type": "stream",
          "name": "stdout",
          "text": [
            "Name: Naruto\n",
            "Rank: Genin\n",
            "Mission: 5\n",
            "Salary: 250\n",
            "====================\n",
            "Name: Shikamaru\n",
            "Rank: Genin\n",
            "Mission: 0\n",
            "Salary: 0\n",
            "Name: Shikamaru\n",
            "Rank: Chunin\n",
            "Mission: 10\n",
            "Salary: 1000\n",
            "====================\n",
            "Name: Neiji\n",
            "Rank: Jonin\n",
            "Mission: 5\n",
            "Salary: 2500\n"
          ]
        }
      ]
    },
    {
      "cell_type": "markdown",
      "source": [
        "Task 9"
      ],
      "metadata": {
        "id": "3ssGqSqAbvrT"
      }
    },
    {
      "cell_type": "code",
      "source": [
        "class Programmer:\n",
        "  def __init__(self,name,language,experience):\n",
        "    print(\"Horray! A new programmer is born\")\n",
        "    self.name=name\n",
        "    self.language=language\n",
        "    self.experience=experience\n",
        "  def printDetails(self):\n",
        "    print(\"Name:\",self.name)\n",
        "    print(\"Language:\",self.language)  \n",
        "    print(\"Experience:\",self.experience)\n",
        "  def addExp(self,add_experience):\n",
        "    print(f'Updating experience of {self.name}')\n",
        "    self.experience+=add_experience  \n",
        "p1 = Programmer(\"Ethen Hunt\", \"Java\", 10)\n",
        "p1.printDetails()\n",
        "print('--------------------------')\n",
        "p2 = Programmer(\"James Bond\", \"C++\", 7)\n",
        "p2.printDetails()\n",
        "print('--------------------------')\n",
        "p3 = Programmer(\"Jon Snow\", \"Python\", 4)\n",
        "p3.printDetails()\n",
        "p3.addExp(5)\n",
        "p3.printDetails()  "
      ],
      "metadata": {
        "colab": {
          "base_uri": "https://localhost:8080/"
        },
        "id": "I1lJ_qx1cuR5",
        "outputId": "fe3573cf-72c4-4cee-9bd5-95be77aabcdd"
      },
      "execution_count": null,
      "outputs": [
        {
          "output_type": "stream",
          "name": "stdout",
          "text": [
            "Horray! A new programmer is born\n",
            "Name: Ethen Hunt\n",
            "Language: Java\n",
            "Experience: 10\n",
            "--------------------------\n",
            "Horray! A new programmer is born\n",
            "Name: James Bond\n",
            "Language: C++\n",
            "Experience: 7\n",
            "--------------------------\n",
            "Horray! A new programmer is born\n",
            "Name: Jon Snow\n",
            "Language: Python\n",
            "Experience: 4\n",
            "Updating experience of Jon Snow\n",
            "Name: Jon Snow\n",
            "Language: Python\n",
            "Experience: 9\n"
          ]
        }
      ]
    },
    {
      "cell_type": "markdown",
      "source": [
        "Task 10"
      ],
      "metadata": {
        "id": "lgJPq7EPf1GT"
      }
    },
    {
      "cell_type": "code",
      "source": [
        "class UberEats:\n",
        "  def __init__(self,name,phone_number,adress):\n",
        "    self.name=name\n",
        "    self.phone_number=phone_number\n",
        "    self.adress=adress\n",
        "    self.dict1={}\n",
        "    print(f'{self.name},welcome to UberEats!')\n",
        "  def add_items(self,order1,order2,order1_price,order2_price):\n",
        "    self.order1=order1\n",
        "    self.order2=order2\n",
        "    self.order1_price=order1_price\n",
        "    self.order2_price=order2_price\n",
        "    self.dict1[self.order1]=self.order1_price\n",
        "    self.dict1[self.order2]=self.order2_price\n",
        "  def print_order_detail(self):\n",
        "    output=f'User details: Name:{self.name},Phone:{self.phone_number},Adress:{self.adress}\\nOrders: {self.dict1}\\nTotal price: {self.order1_price+self.order2_price}' \n",
        "    return output\n",
        "order1 = UberEats(\"Shakib\", \"01719658xxx\", \"Mohakhali\")\n",
        "print(\"=========================\")\n",
        "order1.add_items(\"Burger\", \"Coca Cola\", 220, 50)\n",
        "print(\"=========================\")\n",
        "print(order1.print_order_detail())\n",
        "print(\"=========================\")\n",
        "order2 = UberEats (\"Siam\", \"01719659xxx\", \"Uttara\")\n",
        "print(\"=========================\")\n",
        "order2.add_items(\"Pineapple\", \"Dairy Milk\", 80, 70)\n",
        "print(\"=========================\")\n",
        "print(order2.print_order_detail())    "
      ],
      "metadata": {
        "colab": {
          "base_uri": "https://localhost:8080/"
        },
        "id": "0UDlT7K4f4qb",
        "outputId": "fb9afb32-59a4-4dec-f81e-2105b13ecef0"
      },
      "execution_count": null,
      "outputs": [
        {
          "output_type": "stream",
          "name": "stdout",
          "text": [
            "Shakib,welcome to UberEats!\n",
            "=========================\n",
            "=========================\n",
            "User details: Name:Shakib,Phone:01719658xxx,Adress:Mohakhali\n",
            "Orders: {'Burger': 220, 'Coca Cola': 50}\n",
            "Total price: 270\n",
            "=========================\n",
            "Siam,welcome to UberEats!\n",
            "=========================\n",
            "=========================\n",
            "User details: Name:Siam,Phone:01719659xxx,Adress:Uttara\n",
            "Orders: {'Pineapple': 80, 'Dairy Milk': 70}\n",
            "Total price: 150\n"
          ]
        }
      ]
    },
    {
      "cell_type": "code",
      "source": [
        "class Spotify:\n",
        "  def __init__(self,song_list):\n",
        "    print(\"Welcome to Spotify!\")\n",
        "    self.song_list=song_list\n",
        "  def playing_number(self,song_number):\n",
        "    if song_number>len(self.song_list):\n",
        "      output1=f'{song_number} is not found. Your playlist has {len(self.song_list)} songs only.'\n",
        "      return output1\n",
        "    else:\n",
        "      output1=f'playing {song_number} number song for you\\nSong name:{self.song_list[song_number-1]}'\n",
        "      print('##########################')\n",
        "      return output1 \n",
        "  def add_to_playlist(self,song_name):\n",
        "    self.song_list.append(song_name)\n",
        "user1 = Spotify([\"See You Again\", \"Uptown Funk\", \"Hello\"])\n",
        "print(\"=========================\")\n",
        "print(user1.playing_number(4))\n",
        "user1.add_to_playlist(\"Dusk Till Dawn\")\n",
        "print(user1.playing_number(3))\n",
        "print(user1.playing_number(4))"
      ],
      "metadata": {
        "colab": {
          "base_uri": "https://localhost:8080/"
        },
        "id": "3xnmSJdWqJA3",
        "outputId": "2c938a42-ae18-47ff-e4a5-662fb9fb3662"
      },
      "execution_count": null,
      "outputs": [
        {
          "output_type": "stream",
          "name": "stdout",
          "text": [
            "Welcome to Spotify!\n",
            "=========================\n",
            "4 is not found. Your playlist has 3 songs only.\n",
            "##########################\n",
            "playing 3 number song for you\n",
            "Song name:Hello\n",
            "##########################\n",
            "playing 4 number song for you\n",
            "Song name:Dusk Till Dawn\n"
          ]
        }
      ]
    }
  ]
}